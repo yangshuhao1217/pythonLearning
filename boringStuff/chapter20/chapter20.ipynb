{
 "cells": [
  {
   "cell_type": "code",
   "execution_count": 1,
   "metadata": {},
   "outputs": [
    {
     "data": {
      "text/plain": [
       "Size(width=1920, height=1080)"
      ]
     },
     "execution_count": 1,
     "metadata": {},
     "output_type": "execute_result"
    }
   ],
   "source": [
    "import pyautogui\n",
    "wh = pyautogui.size() # Obtain the screen resolution.\n",
    "wh"
   ]
  },
  {
   "cell_type": "code",
   "execution_count": 2,
   "id": "873af4cf",
   "metadata": {},
   "outputs": [
    {
     "data": {
      "text/plain": [
       "1920"
      ]
     },
     "execution_count": 2,
     "metadata": {},
     "output_type": "execute_result"
    }
   ],
   "source": [
    "wh[0]"
   ]
  },
  {
   "cell_type": "code",
   "execution_count": 3,
   "id": "c1539622",
   "metadata": {},
   "outputs": [
    {
     "data": {
      "text/plain": [
       "1920"
      ]
     },
     "execution_count": 3,
     "metadata": {},
     "output_type": "execute_result"
    }
   ],
   "source": [
    "wh.width"
   ]
  },
  {
   "cell_type": "code",
   "execution_count": 4,
   "id": "c9539b70",
   "metadata": {},
   "outputs": [],
   "source": [
    "import pyautogui\n",
    "for i in range(10):     # Move mouse in a square.\n",
    "    pyautogui.moveTo(100, 100, duration=0.25)\n",
    "    pyautogui.moveTo(200, 100, duration=0.25)\n",
    "    pyautogui.moveTo(200, 200, duration=0.25)\n",
    "    pyautogui.moveTo(100, 200, duration=0.25)"
   ]
  },
  {
   "cell_type": "code",
   "execution_count": 5,
   "id": "210245e9",
   "metadata": {},
   "outputs": [],
   "source": [
    "import pyautogui\n",
    "for i in range(10):\n",
    "    pyautogui.move(100, 0, duration=0.25) # right\n",
    "    pyautogui.move(0, 100, duration=0.25) # down\n",
    "    pyautogui.move(-100, 0, duration=0.25) # left\n",
    "    pyautogui.move(0, -100, duration=0.25) # up"
   ]
  },
  {
   "cell_type": "code",
   "execution_count": 1,
   "id": "ea1072d8",
   "metadata": {},
   "outputs": [
    {
     "data": {
      "text/plain": [
       "Point(x=2321, y=588)"
      ]
     },
     "execution_count": 1,
     "metadata": {},
     "output_type": "execute_result"
    }
   ],
   "source": [
    "import pyautogui\n",
    "pyautogui.position() # Get current mouse position."
   ]
  },
  {
   "cell_type": "code",
   "execution_count": 2,
   "id": "611f8028",
   "metadata": {},
   "outputs": [
    {
     "data": {
      "text/plain": [
       "Point(x=2770, y=730)"
      ]
     },
     "execution_count": 2,
     "metadata": {},
     "output_type": "execute_result"
    }
   ],
   "source": [
    "pyautogui.position() # Get current mouse position again."
   ]
  },
  {
   "cell_type": "code",
   "execution_count": 3,
   "id": "6d9fe377",
   "metadata": {},
   "outputs": [],
   "source": [
    "p = pyautogui.position() # Add again."
   ]
  },
  {
   "cell_type": "code",
   "execution_count": 4,
   "id": "390d854e",
   "metadata": {},
   "outputs": [
    {
     "data": {
      "text/plain": [
       "Point(x=2770, y=730)"
      ]
     },
     "execution_count": 4,
     "metadata": {},
     "output_type": "execute_result"
    }
   ],
   "source": [
    "p"
   ]
  },
  {
   "cell_type": "code",
   "execution_count": 5,
   "id": "0de1ab62",
   "metadata": {},
   "outputs": [
    {
     "data": {
      "text/plain": [
       "2770"
      ]
     },
     "execution_count": 5,
     "metadata": {},
     "output_type": "execute_result"
    }
   ],
   "source": [
    "p[0] # The X-cordinate is at index 0. "
   ]
  },
  {
   "cell_type": "code",
   "execution_count": 6,
   "id": "fe677401",
   "metadata": {},
   "outputs": [
    {
     "data": {
      "text/plain": [
       "2770"
      ]
     },
     "execution_count": 6,
     "metadata": {},
     "output_type": "execute_result"
    }
   ],
   "source": [
    "p.x # The X-cordinate is also in the attribute."
   ]
  },
  {
   "cell_type": "code",
   "execution_count": 7,
   "id": "8527023d",
   "metadata": {},
   "outputs": [],
   "source": [
    "import pyautogui\n",
    "pyautogui.click(10, 5) # Move mouse to (10, 5) and click."
   ]
  },
  {
   "cell_type": "code",
   "execution_count": 8,
   "id": "8a1d17f3",
   "metadata": {},
   "outputs": [],
   "source": [
    "pyautogui.scroll(200)"
   ]
  },
  {
   "cell_type": "code",
   "execution_count": 9,
   "id": "cfe10593",
   "metadata": {},
   "outputs": [],
   "source": [
    "import pyautogui\n",
    "pyautogui.mouseInfo()"
   ]
  },
  {
   "cell_type": "code",
   "execution_count": null,
   "id": "3aa7245c",
   "metadata": {},
   "outputs": [],
   "source": [
    "import pyautogui\n",
    "im = pyautogui.screenshot()"
   ]
  },
  {
   "cell_type": "code",
   "execution_count": 12,
   "id": "6fce1f9a",
   "metadata": {},
   "outputs": [
    {
     "data": {
      "text/plain": [
       "(183, 206, 222)"
      ]
     },
     "execution_count": 12,
     "metadata": {},
     "output_type": "execute_result"
    }
   ],
   "source": [
    "import pyautogui\n",
    "pyautogui.pixel(0, 0)"
   ]
  },
  {
   "cell_type": "code",
   "execution_count": 13,
   "id": "de30a577",
   "metadata": {},
   "outputs": [
    {
     "data": {
      "text/plain": [
       "(119, 175, 210)"
      ]
     },
     "execution_count": 13,
     "metadata": {},
     "output_type": "execute_result"
    }
   ],
   "source": [
    "pyautogui.pixel(50, 200)"
   ]
  },
  {
   "cell_type": "code",
   "execution_count": 14,
   "id": "a0bb1a28",
   "metadata": {},
   "outputs": [
    {
     "data": {
      "text/plain": [
       "False"
      ]
     },
     "execution_count": 14,
     "metadata": {},
     "output_type": "execute_result"
    }
   ],
   "source": [
    "pyautogui.pixelMatchesColor(50, 200, (119, 175, 144))"
   ]
  },
  {
   "cell_type": "code",
   "execution_count": 15,
   "id": "3b374e89",
   "metadata": {},
   "outputs": [
    {
     "data": {
      "text/plain": [
       "True"
      ]
     },
     "execution_count": 15,
     "metadata": {},
     "output_type": "execute_result"
    }
   ],
   "source": [
    "pyautogui.pixelMatchesColor(50, 200, (119, 175, 210))"
   ]
  },
  {
   "cell_type": "code",
   "execution_count": 5,
   "id": "1370cf75",
   "metadata": {},
   "outputs": [],
   "source": [
    "import pyautogui\n",
    "b = pyautogui.locateOnScreen('submit.png')\n",
    "b "
   ]
  },
  {
   "cell_type": "code",
   "execution_count": 6,
   "id": "a47557d0",
   "metadata": {},
   "outputs": [
    {
     "data": {
      "text/plain": [
       "Win32Window(hWnd=1246638)"
      ]
     },
     "execution_count": 6,
     "metadata": {},
     "output_type": "execute_result"
    }
   ],
   "source": [
    "import pyautogui\n",
    "fw = pyautogui.getActiveWindow()\n",
    "fw"
   ]
  },
  {
   "cell_type": "code",
   "execution_count": 7,
   "id": "ff00adbb",
   "metadata": {},
   "outputs": [
    {
     "data": {
      "text/plain": [
       "'<Win32Window left=\"1912\", top=\"-7\", width=\"1936\", height=\"1048\", title=\"● chapter20.ipynb - boringStuff - Visual Studio Code\">'"
      ]
     },
     "execution_count": 7,
     "metadata": {},
     "output_type": "execute_result"
    }
   ],
   "source": [
    "str(fw)"
   ]
  },
  {
   "cell_type": "code",
   "execution_count": 8,
   "id": "e8aafe9a",
   "metadata": {},
   "outputs": [
    {
     "data": {
      "text/plain": [
       "'● chapter20.ipynb - boringStuff - Visual Studio Code'"
      ]
     },
     "execution_count": 8,
     "metadata": {},
     "output_type": "execute_result"
    }
   ],
   "source": [
    "fw.title"
   ]
  },
  {
   "cell_type": "code",
   "execution_count": 9,
   "id": "df43c203",
   "metadata": {},
   "outputs": [
    {
     "data": {
      "text/plain": [
       "(1912, -7, 3848, 1041)"
      ]
     },
     "execution_count": 9,
     "metadata": {},
     "output_type": "execute_result"
    }
   ],
   "source": [
    "fw.left, fw.top, fw.right, fw.bottom"
   ]
  },
  {
   "cell_type": "code",
   "execution_count": 10,
   "id": "fad5d40c",
   "metadata": {},
   "outputs": [
    {
     "data": {
      "text/plain": [
       "Point(x=1912, y=-7)"
      ]
     },
     "execution_count": 10,
     "metadata": {},
     "output_type": "execute_result"
    }
   ],
   "source": [
    "fw.topleft"
   ]
  },
  {
   "cell_type": "code",
   "execution_count": 11,
   "id": "afb06f79",
   "metadata": {},
   "outputs": [
    {
     "data": {
      "text/plain": [
       "2028928"
      ]
     },
     "execution_count": 11,
     "metadata": {},
     "output_type": "execute_result"
    }
   ],
   "source": [
    "fw.area"
   ]
  },
  {
   "cell_type": "code",
   "execution_count": 12,
   "id": "ba7f1102",
   "metadata": {},
   "outputs": [],
   "source": [
    "pyautogui.click(fw.left + 10, fw.top + 20)"
   ]
  },
  {
   "cell_type": "code",
   "execution_count": 13,
   "id": "78295c87",
   "metadata": {},
   "outputs": [
    {
     "data": {
      "text/plain": [
       "1936"
      ]
     },
     "execution_count": 13,
     "metadata": {},
     "output_type": "execute_result"
    }
   ],
   "source": [
    "import pyautogui\n",
    "fw = pyautogui.getActiveWindow()\n",
    "fw.width    # Gets the current width of the window."
   ]
  },
  {
   "cell_type": "code",
   "execution_count": 14,
   "id": "dba23bf7",
   "metadata": {},
   "outputs": [
    {
     "data": {
      "text/plain": [
       "Point(x=1912, y=-7)"
      ]
     },
     "execution_count": 14,
     "metadata": {},
     "output_type": "execute_result"
    }
   ],
   "source": [
    "fw.topleft  # Gets the current position of the windows."
   ]
  },
  {
   "cell_type": "code",
   "execution_count": 16,
   "id": "1bb8f84a",
   "metadata": {},
   "outputs": [],
   "source": [
    "fw.width = 1000 # Resizes the width.\n",
    "fw.topleft = (800, 400) # Moves the window."
   ]
  },
  {
   "cell_type": "code",
   "execution_count": 17,
   "id": "47690e57",
   "metadata": {},
   "outputs": [
    {
     "data": {
      "text/plain": [
       "True"
      ]
     },
     "execution_count": 17,
     "metadata": {},
     "output_type": "execute_result"
    }
   ],
   "source": [
    "import pyautogui\n",
    "fw = pyautogui.getActiveWindow()\n",
    "fw.isMaximized # Returns True if window is maximized."
   ]
  },
  {
   "cell_type": "code",
   "execution_count": 18,
   "id": "381554c5",
   "metadata": {},
   "outputs": [
    {
     "data": {
      "text/plain": [
       "False"
      ]
     },
     "execution_count": 18,
     "metadata": {},
     "output_type": "execute_result"
    }
   ],
   "source": [
    "fw.isMinimized # Returns True if window is minimized."
   ]
  },
  {
   "cell_type": "code",
   "execution_count": 19,
   "id": "43c39247",
   "metadata": {},
   "outputs": [
    {
     "data": {
      "text/plain": [
       "True"
      ]
     },
     "execution_count": 19,
     "metadata": {},
     "output_type": "execute_result"
    }
   ],
   "source": [
    "fw.isActive # Returns True if window is the the active window."
   ]
  },
  {
   "cell_type": "code",
   "execution_count": 20,
   "id": "afccaff5",
   "metadata": {},
   "outputs": [],
   "source": [
    "fw.minimize() # Minimize the window."
   ]
  },
  {
   "cell_type": "code",
   "execution_count": 21,
   "id": "32ee4eab",
   "metadata": {},
   "outputs": [],
   "source": [
    "fw.restore() # Undoes a minimize/maximize action."
   ]
  },
  {
   "cell_type": "code",
   "execution_count": 22,
   "id": "b22f1d49",
   "metadata": {},
   "outputs": [],
   "source": [
    "fw.minimize() # Minimize the window.\n",
    "import time\n",
    "# Waiot 5 seconds while you activate a different window:\n",
    "time.sleep(5); fw.activate()\n",
    "fw.close() # This will close the window you're typing in."
   ]
  },
  {
   "cell_type": "code",
   "execution_count": 1,
   "id": "4e9d1c6d",
   "metadata": {},
   "outputs": [],
   "source": [
    "import pyautogui\n",
    "pyautogui.click(100, 200); pyautogui.write('Hello, world!')"
   ]
  },
  {
   "cell_type": "code",
   "execution_count": 2,
   "id": "c7b74ddb",
   "metadata": {},
   "outputs": [],
   "source": [
    "pyautogui.click(100, 200); pyautogui.write('Hello, world!', 0.25)"
   ]
  },
  {
   "cell_type": "code",
   "execution_count": 3,
   "id": "c2b915e2",
   "metadata": {},
   "outputs": [],
   "source": [
    "pyautogui.click(100, 200); "
   ]
  },
  {
   "cell_type": "code",
   "execution_count": 5,
   "id": "238c8fab",
   "metadata": {},
   "outputs": [],
   "source": [
    "pyautogui.write(['a', 'b', 'left', 'X', 'Y'])"
   ]
  },
  {
   "cell_type": "code",
   "execution_count": 4,
   "id": "e007f089",
   "metadata": {},
   "outputs": [],
   "source": [
    "pyautogui.keyDown('shift'); pyautogui.press('4'); pyautogui.keyUp('shift')"
   ]
  },
  {
   "cell_type": "code",
   "execution_count": null,
   "id": "aa1fef5e",
   "metadata": {},
   "outputs": [],
   "source": [
    "$"
   ]
  },
  {
   "cell_type": "code",
   "execution_count": 6,
   "id": "e5c3ca5e",
   "metadata": {},
   "outputs": [],
   "source": [
    "pyautogui.write(['a', 'b', 'left', 'X', 'Y'])"
   ]
  },
  {
   "cell_type": "code",
   "execution_count": null,
   "id": "35b24c24",
   "metadata": {},
   "outputs": [],
   "source": [
    "aXYb"
   ]
  },
  {
   "cell_type": "code",
   "execution_count": null,
   "id": "f4823d19",
   "metadata": {},
   "outputs": [],
   "source": [
    "import pyautogui\n",
    "pyautogui.sleep(3) # Pauses the program for 3 seconds.\n",
    "pyautogui.countdown(10) # Counts down over 10 seconds.\n",
    "print('Starting in ', end=''); pyautogui.countdown(3)"
   ]
  }
 ],
 "metadata": {
  "kernelspec": {
   "display_name": "Python 3.10.2 64-bit",
   "language": "python",
   "name": "python3"
  },
  "language_info": {
   "codemirror_mode": {
    "name": "ipython",
    "version": 3
   },
   "file_extension": ".py",
   "mimetype": "text/x-python",
   "name": "python",
   "nbconvert_exporter": "python",
   "pygments_lexer": "ipython3",
   "version": "3.10.2"
  },
  "vscode": {
   "interpreter": {
    "hash": "2e9fbc773f45e41dd05e1c1aa73f5304dddab96910e052885fb7ba22c4df738f"
   }
  }
 },
 "nbformat": 4,
 "nbformat_minor": 5
}
