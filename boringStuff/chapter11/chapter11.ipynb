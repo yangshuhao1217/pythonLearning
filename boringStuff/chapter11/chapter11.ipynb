{
 "cells": [
  {
   "cell_type": "code",
   "execution_count": 1,
   "id": "ff93f643-1b5c-42d8-97fe-7dbcb34857a8",
   "metadata": {},
   "outputs": [
    {
     "ename": "Exception",
     "evalue": "This is the error message.",
     "output_type": "error",
     "traceback": [
      "\u001b[1;31m---------------------------------------------------------------------------\u001b[0m",
      "\u001b[1;31mException\u001b[0m                                 Traceback (most recent call last)",
      "Input \u001b[1;32mIn [1]\u001b[0m, in \u001b[0;36m<cell line: 1>\u001b[1;34m()\u001b[0m\n\u001b[1;32m----> 1\u001b[0m \u001b[38;5;28;01mraise\u001b[39;00m \u001b[38;5;167;01mException\u001b[39;00m(\u001b[38;5;124m'\u001b[39m\u001b[38;5;124mThis is the error message.\u001b[39m\u001b[38;5;124m'\u001b[39m)\n",
      "\u001b[1;31mException\u001b[0m: This is the error message."
     ]
    }
   ],
   "source": [
    "raise Exception('This is the error message.')"
   ]
  },
  {
   "cell_type": "code",
   "execution_count": 1,
   "id": "a55b672c-a947-486b-b09e-d438f0ad8bf3",
   "metadata": {},
   "outputs": [
    {
     "name": "stdout",
     "output_type": "stream",
     "text": [
      "The traceback info was written to errorInfo.txt\n"
     ]
    }
   ],
   "source": [
    "import traceback\n",
    "try:\n",
    "    raise Exception('This is the error message.')\n",
    "except:\n",
    "    errorFile = open('errorInfo.txt', 'w')\n",
    "    errorFile.write(traceback.format_exc())\n",
    "    errorFile.close()\n",
    "    print('The traceback info was written to errorInfo.txt')"
   ]
  },
  {
   "cell_type": "code",
   "execution_count": 2,
   "id": "602d06ec",
   "metadata": {},
   "outputs": [
    {
     "data": {
      "text/plain": [
       "[15, 17, 22, 26, 47, 54, 57, 73, 80, 92]"
      ]
     },
     "execution_count": 2,
     "metadata": {},
     "output_type": "execute_result"
    }
   ],
   "source": [
    "ages = [26, 57, 92, 54, 22, 15, 17, 80, 47, 73]\n",
    "ages.sort()\n",
    "ages"
   ]
  },
  {
   "cell_type": "code",
   "execution_count": 3,
   "id": "f0128cf0",
   "metadata": {},
   "outputs": [],
   "source": [
    "assert ages[0] <= ages[-1] # Assert that the first age is <= the last age."
   ]
  },
  {
   "cell_type": "code",
   "execution_count": 4,
   "id": "da8edea1",
   "metadata": {},
   "outputs": [
    {
     "data": {
      "text/plain": [
       "[73, 47, 80, 17, 15, 22, 54, 92, 57, 26]"
      ]
     },
     "execution_count": 4,
     "metadata": {},
     "output_type": "execute_result"
    }
   ],
   "source": [
    "ages = [26, 57, 92, 54, 22, 15, 17, 80, 47, 73]\n",
    "ages.reverse()\n",
    "ages"
   ]
  },
  {
   "cell_type": "code",
   "execution_count": 5,
   "id": "2644c596",
   "metadata": {},
   "outputs": [
    {
     "ename": "AssertionError",
     "evalue": "",
     "output_type": "error",
     "traceback": [
      "\u001b[1;31m---------------------------------------------------------------------------\u001b[0m",
      "\u001b[1;31mAssertionError\u001b[0m                            Traceback (most recent call last)",
      "\u001b[1;32mc:\\Users\\YangShuhao\\Coding\\python_work\\pythonLearning\\boringStuff\\chapter11\\chapter11.ipynb Cell 6'\u001b[0m in \u001b[0;36m<cell line: 1>\u001b[1;34m()\u001b[0m\n\u001b[1;32m----> <a href='vscode-notebook-cell:/c%3A/Users/YangShuhao/Coding/python_work/pythonLearning/boringStuff/chapter11/chapter11.ipynb#ch0000005?line=0'>1</a>\u001b[0m \u001b[39massert\u001b[39;00m ages[\u001b[39m0\u001b[39m] \u001b[39m<\u001b[39m\u001b[39m=\u001b[39m ages[\u001b[39m-\u001b[39m\u001b[39m1\u001b[39m]\n",
      "\u001b[1;31mAssertionError\u001b[0m: "
     ]
    }
   ],
   "source": [
    "assert ages[0] <= ages[-1] # Assert that the first ages is <= the last age."
   ]
  },
  {
   "cell_type": "code",
   "execution_count": 7,
   "id": "9e8d1a46",
   "metadata": {},
   "outputs": [
    {
     "name": "stderr",
     "output_type": "stream",
     "text": [
      " 2022-07-01 16:50:33,643 - DEBUG - Some debugging details.\n"
     ]
    }
   ],
   "source": [
    "import logging\n",
    "logging.basicConfig(level=logging.DEBUG, format=' %(asctime)s - %(levelname)s - %(message)s')\n",
    "logging.debug('Some debugging details.')"
   ]
  },
  {
   "cell_type": "code",
   "execution_count": 8,
   "id": "a862103b",
   "metadata": {},
   "outputs": [
    {
     "name": "stderr",
     "output_type": "stream",
     "text": [
      " 2022-07-01 16:50:59,695 - INFO - The logging module is working.\n"
     ]
    }
   ],
   "source": [
    "logging.info('The logging module is working.')"
   ]
  },
  {
   "cell_type": "code",
   "execution_count": 9,
   "id": "365ed684",
   "metadata": {},
   "outputs": [
    {
     "name": "stderr",
     "output_type": "stream",
     "text": [
      " 2022-07-01 16:51:29,256 - WARNING - An error message is about to be logged.\n"
     ]
    }
   ],
   "source": [
    "logging.warning('An error message is about to be logged.')"
   ]
  },
  {
   "cell_type": "code",
   "execution_count": 10,
   "id": "405494d2",
   "metadata": {},
   "outputs": [
    {
     "name": "stderr",
     "output_type": "stream",
     "text": [
      " 2022-07-01 16:51:56,788 - ERROR - An error has occured.\n"
     ]
    }
   ],
   "source": [
    "logging.error('An error has occured.')"
   ]
  },
  {
   "cell_type": "code",
   "execution_count": 11,
   "id": "d5f74b9e",
   "metadata": {},
   "outputs": [
    {
     "name": "stderr",
     "output_type": "stream",
     "text": [
      " 2022-07-01 16:52:21,662 - CRITICAL - The program is unable to recover!\n"
     ]
    }
   ],
   "source": [
    "logging.critical('The program is unable to recover!')"
   ]
  },
  {
   "cell_type": "code",
   "execution_count": 12,
   "id": "e898a7d4",
   "metadata": {},
   "outputs": [
    {
     "name": "stderr",
     "output_type": "stream",
     "text": [
      " 2022-07-01 17:00:42,766 - CRITICAL - Critical error! Critical error!\n"
     ]
    }
   ],
   "source": [
    "import logging\n",
    "logging.basicConfig(level=logging.INFO, format=' %(asctime)s - %(levalname)s - -%(message)s')\n",
    "logging.critical('Critical error! Critical error!')"
   ]
  },
  {
   "cell_type": "code",
   "execution_count": 13,
   "id": "419bc036",
   "metadata": {},
   "outputs": [],
   "source": [
    "logging.disable(logging.CRITICAL)\n",
    "logging.critical('Critical error! Critical error!')\n",
    "logging.error('Error! Error!')"
   ]
  },
  {
   "cell_type": "code",
   "execution_count": null,
   "id": "2a7f331a",
   "metadata": {},
   "outputs": [],
   "source": []
  }
 ],
 "metadata": {
  "kernelspec": {
   "display_name": "Python 3.10.0 64-bit",
   "language": "python",
   "name": "python3"
  },
  "language_info": {
   "codemirror_mode": {
    "name": "ipython",
    "version": 3
   },
   "file_extension": ".py",
   "mimetype": "text/x-python",
   "name": "python",
   "nbconvert_exporter": "python",
   "pygments_lexer": "ipython3",
   "version": "3.10.0"
  },
  "vscode": {
   "interpreter": {
    "hash": "3fca44e8a8d966755b74aae34a70af2c9ee2ebdbfb3aa82eef447cc2a8552b1d"
   }
  }
 },
 "nbformat": 4,
 "nbformat_minor": 5
}
