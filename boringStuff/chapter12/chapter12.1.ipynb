{
 "cells": [
  {
   "cell_type": "code",
   "execution_count": 4,
   "id": "39efc2e3-c419-4f87-bb7d-cfa40ccc962f",
   "metadata": {},
   "outputs": [
    {
     "data": {
      "text/plain": [
       "selenium.webdriver.firefox.webdriver.WebDriver"
      ]
     },
     "execution_count": 4,
     "metadata": {},
     "output_type": "execute_result"
    }
   ],
   "source": [
    "from selenium import webdriver\n",
    "browser = webdriver.Firefox()\n",
    "type(browser)"
   ]
  },
  {
   "cell_type": "code",
   "execution_count": 6,
   "id": "706255f1-7fb2-412a-9b56-a664340af3e4",
   "metadata": {},
   "outputs": [
    {
     "data": {
      "text/plain": [
       "selenium.webdriver.chrome.webdriver.WebDriver"
      ]
     },
     "execution_count": 6,
     "metadata": {},
     "output_type": "execute_result"
    }
   ],
   "source": [
    "from selenium import webdriver\n",
    "browser = webdriver.Chrome()\n",
    "type(browser)"
   ]
  },
  {
   "cell_type": "code",
   "execution_count": 12,
   "id": "b0bd3aba",
   "metadata": {},
   "outputs": [],
   "source": [
    "from selenium import webdriver\n",
    "from selenium.webdriver.common.by import By\n",
    "browser = webdriver.Firefox()\n",
    "browser.get('https://inventwithpython.com')\n",
    "linkElem = browser.find_element(By.LINK_TEXT, 'Read Online for Free')\n",
    "type(linkElem)\n",
    "linkElem.click()"
   ]
  },
  {
   "cell_type": "code",
   "execution_count": 1,
   "id": "859e4c7e",
   "metadata": {},
   "outputs": [],
   "source": [
    "from selenium import webdriver\n",
    "from selenium.webdriver.common.by import By\n",
    "import pyinputplus as pyip\n",
    "browser = webdriver.Firefox()\n",
    "browser.get('https://github.com/login')\n",
    "userElem = browser.find_element(By.ID, 'login_field')\n",
    "username = input('Enter your username or email:\\n')\n",
    "userElem.send_keys(username)\n",
    "\n",
    "passwordElem = browser.find_element(By.ID, 'password')\n",
    "password = pyip.inputPassword('Enter your password:\\n')\n",
    "passwordElem.send_keys(password)\n",
    "passwordElem.submit()"
   ]
  },
  {
   "cell_type": "code",
   "execution_count": 1,
   "id": "69c0c245",
   "metadata": {},
   "outputs": [],
   "source": [
    "from selenium import webdriver\n",
    "from selenium.webdriver.common.keys import Keys\n",
    "from selenium.webdriver.common.by import By\n",
    "\n",
    "browser = webdriver.Firefox()\n",
    "browser.get('https://nostarch.com')\n",
    "htmlElem = browser.find_element(By.TAG_NAME, 'html')\n",
    "htmlElem.send_keys(Keys.END)        # scrolls to buttom\n",
    "htmlElem.send_keys(Keys.HOME)       # scrolls to top"
   ]
  },
  {
   "cell_type": "code",
   "execution_count": null,
   "id": "e84b63df",
   "metadata": {},
   "outputs": [],
   "source": []
  }
 ],
 "metadata": {
  "kernelspec": {
   "display_name": "Python 3.10.2 64-bit",
   "language": "python",
   "name": "python3"
  },
  "language_info": {
   "codemirror_mode": {
    "name": "ipython",
    "version": 3
   },
   "file_extension": ".py",
   "mimetype": "text/x-python",
   "name": "python",
   "nbconvert_exporter": "python",
   "pygments_lexer": "ipython3",
   "version": "3.10.2"
  },
  "vscode": {
   "interpreter": {
    "hash": "2e9fbc773f45e41dd05e1c1aa73f5304dddab96910e052885fb7ba22c4df738f"
   }
  }
 },
 "nbformat": 4,
 "nbformat_minor": 5
}
