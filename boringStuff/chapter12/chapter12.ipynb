{
 "cells": [
  {
   "cell_type": "code",
   "execution_count": 1,
   "id": "334f343a-ac0e-437a-959a-252adb4a3d56",
   "metadata": {},
   "outputs": [
    {
     "data": {
      "text/plain": [
       "True"
      ]
     },
     "execution_count": 1,
     "metadata": {},
     "output_type": "execute_result"
    }
   ],
   "source": [
    "import webbrowser\n",
    "webbrowser.open('https://inventwithpython.com/')"
   ]
  },
  {
   "cell_type": "code",
   "execution_count": 1,
   "id": "759d0930-4a1c-43c7-b49c-e75b2c569948",
   "metadata": {},
   "outputs": [
    {
     "data": {
      "text/plain": [
       "requests.models.Response"
      ]
     },
     "execution_count": 1,
     "metadata": {},
     "output_type": "execute_result"
    }
   ],
   "source": [
    "import requests\n",
    "res = requests.get('https://automatetheboringstuff.com/files/rj.txt')\n",
    "type(res)"
   ]
  },
  {
   "cell_type": "code",
   "execution_count": 2,
   "id": "aff2746a",
   "metadata": {},
   "outputs": [
    {
     "data": {
      "text/plain": [
       "True"
      ]
     },
     "execution_count": 2,
     "metadata": {},
     "output_type": "execute_result"
    }
   ],
   "source": [
    "res.status_code == requests.codes.ok"
   ]
  },
  {
   "cell_type": "code",
   "execution_count": 4,
   "id": "cc82c015",
   "metadata": {},
   "outputs": [
    {
     "data": {
      "text/plain": [
       "178978"
      ]
     },
     "execution_count": 4,
     "metadata": {},
     "output_type": "execute_result"
    }
   ],
   "source": [
    "len(res.text)"
   ]
  },
  {
   "cell_type": "code",
   "execution_count": 5,
   "id": "7093e27a",
   "metadata": {},
   "outputs": [
    {
     "name": "stdout",
     "output_type": "stream",
     "text": [
      "The Project Gutenberg EBook of Romeo and Juliet, by William Shakespeare\n",
      "\n",
      "This eBook is for the use of anyone anywhere at no cost and with\n",
      "almost no restrictions whatsoever.  You may copy it, give it away or\n",
      "re-use it under the terms of the Projec\n"
     ]
    }
   ],
   "source": [
    "print(res.text[:250])"
   ]
  },
  {
   "cell_type": "code",
   "execution_count": 6,
   "id": "76ab4b78",
   "metadata": {},
   "outputs": [
    {
     "data": {
      "text/plain": [
       "bs4.BeautifulSoup"
      ]
     },
     "execution_count": 6,
     "metadata": {},
     "output_type": "execute_result"
    }
   ],
   "source": [
    "import requests, bs4\n",
    "res = requests.get('https://nostarch.com')\n",
    "res.raise_for_status()\n",
    "noStarchSoup = bs4.BeautifulSoup(res.text, 'html.parser')\n",
    "type(noStarchSoup)"
   ]
  },
  {
   "cell_type": "code",
   "execution_count": 7,
   "id": "e0813a6d",
   "metadata": {},
   "outputs": [
    {
     "data": {
      "text/plain": [
       "bs4.BeautifulSoup"
      ]
     },
     "execution_count": 7,
     "metadata": {},
     "output_type": "execute_result"
    }
   ],
   "source": [
    "exampleFile = open('example.html')\n",
    "exampleSoup = bs4.BeautifulSoup(exampleFile, 'html.parser')\n",
    "type(exampleSoup)"
   ]
  },
  {
   "cell_type": "code",
   "execution_count": 8,
   "id": "a56a2213",
   "metadata": {},
   "outputs": [
    {
     "data": {
      "text/plain": [
       "bs4.element.ResultSet"
      ]
     },
     "execution_count": 8,
     "metadata": {},
     "output_type": "execute_result"
    }
   ],
   "source": [
    "import bs4\n",
    "exampleFile = open('example.html')\n",
    "exampleSoup = bs4.BeautifulSoup(exampleFile.read(), 'html.parser')\n",
    "elems = exampleSoup.select('#author')\n",
    "type(elems) # elems is a list of Tag objects."
   ]
  },
  {
   "cell_type": "code",
   "execution_count": 9,
   "id": "bf8e2f78",
   "metadata": {},
   "outputs": [
    {
     "data": {
      "text/plain": [
       "1"
      ]
     },
     "execution_count": 9,
     "metadata": {},
     "output_type": "execute_result"
    }
   ],
   "source": [
    "len(elems)"
   ]
  },
  {
   "cell_type": "code",
   "execution_count": 10,
   "id": "5a0ebb65",
   "metadata": {},
   "outputs": [
    {
     "data": {
      "text/plain": [
       "bs4.element.Tag"
      ]
     },
     "execution_count": 10,
     "metadata": {},
     "output_type": "execute_result"
    }
   ],
   "source": [
    "type(elems[0])"
   ]
  },
  {
   "cell_type": "code",
   "execution_count": 11,
   "id": "9bb28cd8",
   "metadata": {},
   "outputs": [
    {
     "data": {
      "text/plain": [
       "'<span id=\"author\">Al Sweigart</span>'"
      ]
     },
     "execution_count": 11,
     "metadata": {},
     "output_type": "execute_result"
    }
   ],
   "source": [
    "str(elems[0]) # The Tag object as a string."
   ]
  },
  {
   "cell_type": "code",
   "execution_count": 12,
   "id": "336ae72a",
   "metadata": {},
   "outputs": [
    {
     "data": {
      "text/plain": [
       "'Al Sweigart'"
      ]
     },
     "execution_count": 12,
     "metadata": {},
     "output_type": "execute_result"
    }
   ],
   "source": [
    "elems[0].getText()"
   ]
  },
  {
   "cell_type": "code",
   "execution_count": 13,
   "id": "c0d57cd5",
   "metadata": {},
   "outputs": [
    {
     "data": {
      "text/plain": [
       "{'id': 'author'}"
      ]
     },
     "execution_count": 13,
     "metadata": {},
     "output_type": "execute_result"
    }
   ],
   "source": [
    "elems[0].attrs"
   ]
  },
  {
   "cell_type": "code",
   "execution_count": 14,
   "id": "707b9fd4",
   "metadata": {},
   "outputs": [
    {
     "data": {
      "text/plain": [
       "'<p>Download my <strong>Python</strong> book from <a href=\"https://inventwithpython.com\">my website</a>.</p>'"
      ]
     },
     "execution_count": 14,
     "metadata": {},
     "output_type": "execute_result"
    }
   ],
   "source": [
    "pElems = exampleSoup.select('p')\n",
    "str(pElems[0])"
   ]
  },
  {
   "cell_type": "code",
   "execution_count": 15,
   "id": "41396c4e",
   "metadata": {},
   "outputs": [
    {
     "data": {
      "text/plain": [
       "'Download my Python book from my website.'"
      ]
     },
     "execution_count": 15,
     "metadata": {},
     "output_type": "execute_result"
    }
   ],
   "source": [
    "pElems[0].getText()"
   ]
  },
  {
   "cell_type": "code",
   "execution_count": 16,
   "id": "df8bf49e",
   "metadata": {},
   "outputs": [
    {
     "data": {
      "text/plain": [
       "'<p class=\"slogan\">Learn Python the easy way!</p>'"
      ]
     },
     "execution_count": 16,
     "metadata": {},
     "output_type": "execute_result"
    }
   ],
   "source": [
    "str(pElems[1])"
   ]
  },
  {
   "cell_type": "code",
   "execution_count": 17,
   "id": "5e09f7f7",
   "metadata": {},
   "outputs": [
    {
     "data": {
      "text/plain": [
       "'Learn Python the easy way!'"
      ]
     },
     "execution_count": 17,
     "metadata": {},
     "output_type": "execute_result"
    }
   ],
   "source": [
    "pElems[1].getText()"
   ]
  },
  {
   "cell_type": "code",
   "execution_count": 18,
   "id": "179e2024",
   "metadata": {},
   "outputs": [
    {
     "data": {
      "text/plain": [
       "'<p>By <span id=\"author\">Al Sweigart</span></p>'"
      ]
     },
     "execution_count": 18,
     "metadata": {},
     "output_type": "execute_result"
    }
   ],
   "source": [
    "str(pElems[2])"
   ]
  },
  {
   "cell_type": "code",
   "execution_count": 19,
   "id": "ad6ece9f",
   "metadata": {},
   "outputs": [
    {
     "data": {
      "text/plain": [
       "'By Al Sweigart'"
      ]
     },
     "execution_count": 19,
     "metadata": {},
     "output_type": "execute_result"
    }
   ],
   "source": [
    "pElems[2].getText()"
   ]
  },
  {
   "cell_type": "code",
   "execution_count": 20,
   "id": "4824431f",
   "metadata": {},
   "outputs": [
    {
     "data": {
      "text/plain": [
       "'<span id=\"author\">Al Sweigart</span>'"
      ]
     },
     "execution_count": 20,
     "metadata": {},
     "output_type": "execute_result"
    }
   ],
   "source": [
    "import bs4\n",
    "soup = bs4.BeautifulSoup(open('example.html'), 'html.parser')\n",
    "spanElem = soup.select('span')[0]\n",
    "str(spanElem)"
   ]
  },
  {
   "cell_type": "code",
   "execution_count": 21,
   "id": "9363abc7",
   "metadata": {},
   "outputs": [
    {
     "data": {
      "text/plain": [
       "'author'"
      ]
     },
     "execution_count": 21,
     "metadata": {},
     "output_type": "execute_result"
    }
   ],
   "source": [
    "spanElem.get('id')"
   ]
  },
  {
   "cell_type": "code",
   "execution_count": 22,
   "id": "f5203b86",
   "metadata": {},
   "outputs": [
    {
     "data": {
      "text/plain": [
       "True"
      ]
     },
     "execution_count": 22,
     "metadata": {},
     "output_type": "execute_result"
    }
   ],
   "source": [
    "spanElem.get('some_nonexistent_addr') == None"
   ]
  },
  {
   "cell_type": "code",
   "execution_count": 23,
   "id": "49d781b6",
   "metadata": {},
   "outputs": [
    {
     "data": {
      "text/plain": [
       "{'id': 'author'}"
      ]
     },
     "execution_count": 23,
     "metadata": {},
     "output_type": "execute_result"
    }
   ],
   "source": [
    "spanElem.attrs"
   ]
  },
  {
   "cell_type": "code",
   "execution_count": null,
   "id": "2030c338",
   "metadata": {},
   "outputs": [],
   "source": []
  }
 ],
 "metadata": {
  "kernelspec": {
   "display_name": "Python 3.10.0 64-bit",
   "language": "python",
   "name": "python3"
  },
  "language_info": {
   "codemirror_mode": {
    "name": "ipython",
    "version": 3
   },
   "file_extension": ".py",
   "mimetype": "text/x-python",
   "name": "python",
   "nbconvert_exporter": "python",
   "pygments_lexer": "ipython3",
   "version": "3.10.0"
  },
  "vscode": {
   "interpreter": {
    "hash": "3fca44e8a8d966755b74aae34a70af2c9ee2ebdbfb3aa82eef447cc2a8552b1d"
   }
  }
 },
 "nbformat": 4,
 "nbformat_minor": 5
}
