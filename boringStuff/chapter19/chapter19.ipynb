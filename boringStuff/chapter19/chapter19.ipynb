{
 "cells": [
  {
   "cell_type": "code",
   "execution_count": 1,
   "metadata": {},
   "outputs": [
    {
     "data": {
      "text/plain": [
       "(255, 0, 0, 255)"
      ]
     },
     "execution_count": 1,
     "metadata": {},
     "output_type": "execute_result"
    }
   ],
   "source": [
    "from PIL import ImageColor\n",
    "ImageColor.getcolor('red', 'RGBA')"
   ]
  },
  {
   "cell_type": "code",
   "execution_count": 2,
   "id": "1a4a2504",
   "metadata": {},
   "outputs": [
    {
     "data": {
      "text/plain": [
       "(255, 0, 0, 255)"
      ]
     },
     "execution_count": 2,
     "metadata": {},
     "output_type": "execute_result"
    }
   ],
   "source": [
    "ImageColor.getcolor('RED', 'RGBA')"
   ]
  },
  {
   "cell_type": "code",
   "execution_count": 3,
   "id": "6bcfb409",
   "metadata": {},
   "outputs": [
    {
     "data": {
      "text/plain": [
       "(0, 0, 0, 255)"
      ]
     },
     "execution_count": 3,
     "metadata": {},
     "output_type": "execute_result"
    }
   ],
   "source": [
    "ImageColor.getcolor('Black', 'RGBA')"
   ]
  },
  {
   "cell_type": "code",
   "execution_count": 4,
   "id": "0aaa63e5",
   "metadata": {},
   "outputs": [
    {
     "data": {
      "text/plain": [
       "(210, 105, 30, 255)"
      ]
     },
     "execution_count": 4,
     "metadata": {},
     "output_type": "execute_result"
    }
   ],
   "source": [
    "ImageColor.getcolor('chocolate', 'RGBA')"
   ]
  },
  {
   "cell_type": "code",
   "execution_count": 5,
   "id": "64ee907a",
   "metadata": {},
   "outputs": [
    {
     "data": {
      "text/plain": [
       "(100, 149, 237, 255)"
      ]
     },
     "execution_count": 5,
     "metadata": {},
     "output_type": "execute_result"
    }
   ],
   "source": [
    "ImageColor.getcolor('CornflowerBlue', 'RGBA')"
   ]
  },
  {
   "cell_type": "code",
   "execution_count": 6,
   "id": "00980ddb",
   "metadata": {},
   "outputs": [],
   "source": [
    "from PIL import Image\n",
    "catIm = Image.open('zophie.png')"
   ]
  },
  {
   "cell_type": "code",
   "execution_count": 7,
   "id": "62af119a",
   "metadata": {},
   "outputs": [
    {
     "data": {
      "text/plain": [
       "(816, 1088)"
      ]
     },
     "execution_count": 7,
     "metadata": {},
     "output_type": "execute_result"
    }
   ],
   "source": [
    "catIm.size"
   ]
  },
  {
   "cell_type": "code",
   "execution_count": 8,
   "id": "b3978c11",
   "metadata": {},
   "outputs": [],
   "source": [
    "width, height = catIm.size"
   ]
  },
  {
   "cell_type": "code",
   "execution_count": 9,
   "id": "a47d76cb",
   "metadata": {},
   "outputs": [
    {
     "data": {
      "text/plain": [
       "816"
      ]
     },
     "execution_count": 9,
     "metadata": {},
     "output_type": "execute_result"
    }
   ],
   "source": [
    "width"
   ]
  },
  {
   "cell_type": "code",
   "execution_count": 10,
   "id": "548ea71b",
   "metadata": {},
   "outputs": [
    {
     "data": {
      "text/plain": [
       "1088"
      ]
     },
     "execution_count": 10,
     "metadata": {},
     "output_type": "execute_result"
    }
   ],
   "source": [
    "height"
   ]
  },
  {
   "cell_type": "code",
   "execution_count": 11,
   "id": "a14860d9",
   "metadata": {},
   "outputs": [
    {
     "data": {
      "text/plain": [
       "'zophie.png'"
      ]
     },
     "execution_count": 11,
     "metadata": {},
     "output_type": "execute_result"
    }
   ],
   "source": [
    "catIm.filename"
   ]
  },
  {
   "cell_type": "code",
   "execution_count": 12,
   "id": "e3c6cc54",
   "metadata": {},
   "outputs": [
    {
     "data": {
      "text/plain": [
       "'PNG'"
      ]
     },
     "execution_count": 12,
     "metadata": {},
     "output_type": "execute_result"
    }
   ],
   "source": [
    "catIm.format"
   ]
  },
  {
   "cell_type": "code",
   "execution_count": 13,
   "id": "2925ac39",
   "metadata": {},
   "outputs": [
    {
     "data": {
      "text/plain": [
       "'Portable network graphics'"
      ]
     },
     "execution_count": 13,
     "metadata": {},
     "output_type": "execute_result"
    }
   ],
   "source": [
    "catIm.format_description"
   ]
  },
  {
   "cell_type": "code",
   "execution_count": 14,
   "id": "86035289",
   "metadata": {},
   "outputs": [],
   "source": [
    "catIm.save('zophie.jpg')"
   ]
  },
  {
   "cell_type": "code",
   "execution_count": 15,
   "id": "4f7f26e2",
   "metadata": {},
   "outputs": [],
   "source": [
    "from PIL import Image\n",
    "im = Image.new('RGBA', (100, 200), 'purple')\n",
    "im.save('purpleImage.png')"
   ]
  },
  {
   "cell_type": "code",
   "execution_count": 16,
   "id": "22db332d",
   "metadata": {},
   "outputs": [],
   "source": [
    "im2 = Image.new('RGBA', (20, 20))\n",
    "im2.save('transparentImage.png')"
   ]
  },
  {
   "cell_type": "code",
   "execution_count": 1,
   "id": "48e92752",
   "metadata": {},
   "outputs": [],
   "source": [
    "from PIL import Image\n",
    "catIm = Image.open('zophie.png')\n",
    "croppedIm = catIm.crop((335, 345, 565, 560))\n",
    "croppedIm.save('cropped.png')"
   ]
  },
  {
   "cell_type": "code",
   "execution_count": 7,
   "id": "f8d8fec8",
   "metadata": {},
   "outputs": [],
   "source": [
    "from PIL import Image\n",
    "catIm = Image.open('zophie.png')\n",
    "catCopyIm = catIm.copy()\n"
   ]
  },
  {
   "cell_type": "code",
   "execution_count": 5,
   "id": "69a51bab",
   "metadata": {},
   "outputs": [
    {
     "data": {
      "text/plain": [
       "(230, 215)"
      ]
     },
     "execution_count": 5,
     "metadata": {},
     "output_type": "execute_result"
    }
   ],
   "source": [
    "faceIm = catIm.crop((335, 345, 565, 560))\n",
    "faceIm.size"
   ]
  },
  {
   "cell_type": "code",
   "execution_count": 6,
   "id": "182ddd03",
   "metadata": {},
   "outputs": [],
   "source": [
    "catCopyIm.paste(faceIm, (0, 0))\n",
    "catCopyIm.paste(faceIm, (400, 500))\n",
    "catCopyIm.save('pasted.png')"
   ]
  },
  {
   "cell_type": "code",
   "execution_count": 8,
   "id": "aeb670bf",
   "metadata": {},
   "outputs": [
    {
     "name": "stdout",
     "output_type": "stream",
     "text": [
      "0 0\n",
      "0 215\n",
      "0 430\n",
      "0 645\n",
      "0 860\n",
      "0 1075\n",
      "230 0\n",
      "230 215\n",
      "230 430\n",
      "230 645\n",
      "230 860\n",
      "230 1075\n",
      "460 0\n",
      "460 215\n",
      "460 430\n",
      "460 645\n",
      "460 860\n",
      "460 1075\n",
      "690 0\n",
      "690 215\n",
      "690 430\n",
      "690 645\n",
      "690 860\n",
      "690 1075\n"
     ]
    }
   ],
   "source": [
    "catImWidth, catImHeight= catIm.size\n",
    "faceImWidth, faceImHeight = faceIm.size\n",
    "catCopyTwo = catIm.copy()\n",
    "for left in range(0, catImWidth, faceImWidth):\n",
    "    for top in range(0, catImHeight, faceImHeight):\n",
    "        print(left, top)\n",
    "        catCopyTwo.paste(faceIm, (left, top))"
   ]
  },
  {
   "cell_type": "code",
   "execution_count": 9,
   "id": "eb4fe386",
   "metadata": {},
   "outputs": [],
   "source": [
    "catCopyTwo.save('titled.png')"
   ]
  },
  {
   "cell_type": "code",
   "execution_count": null,
   "id": "36ec223e",
   "metadata": {},
   "outputs": [],
   "source": []
  }
 ],
 "metadata": {
  "kernelspec": {
   "display_name": "Python 3.10.0 64-bit",
   "language": "python",
   "name": "python3"
  },
  "language_info": {
   "codemirror_mode": {
    "name": "ipython",
    "version": 3
   },
   "file_extension": ".py",
   "mimetype": "text/x-python",
   "name": "python",
   "nbconvert_exporter": "python",
   "pygments_lexer": "ipython3",
   "version": "3.10.0"
  },
  "vscode": {
   "interpreter": {
    "hash": "3fca44e8a8d966755b74aae34a70af2c9ee2ebdbfb3aa82eef447cc2a8552b1d"
   }
  }
 },
 "nbformat": 4,
 "nbformat_minor": 5
}
