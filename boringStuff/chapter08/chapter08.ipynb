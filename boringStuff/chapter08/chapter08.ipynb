{
 "cells": [
  {
   "cell_type": "code",
   "execution_count": 3,
   "id": "991bf406-e4ae-4c71-9a4d-7698bc74dec6",
   "metadata": {},
   "outputs": [],
   "source": [
    "import pyinputplus as pyip\n",
    "response = pyip.inputNum()"
   ]
  },
  {
   "cell_type": "code",
   "execution_count": 4,
   "id": "cfd3224a",
   "metadata": {},
   "outputs": [
    {
     "data": {
      "text/plain": [
       "42"
      ]
     },
     "execution_count": 4,
     "metadata": {},
     "output_type": "execute_result"
    }
   ],
   "source": [
    "response"
   ]
  },
  {
   "cell_type": "code",
   "execution_count": 5,
   "id": "f7bd37ca",
   "metadata": {},
   "outputs": [],
   "source": [
    "response = input('Enter a number: ')"
   ]
  },
  {
   "cell_type": "code",
   "execution_count": 6,
   "id": "daad81e5",
   "metadata": {},
   "outputs": [
    {
     "data": {
      "text/plain": [
       "'42'"
      ]
     },
     "execution_count": 6,
     "metadata": {},
     "output_type": "execute_result"
    }
   ],
   "source": [
    "response"
   ]
  },
  {
   "cell_type": "code",
   "execution_count": 7,
   "id": "bf59c589",
   "metadata": {},
   "outputs": [
    {
     "name": "stdout",
     "output_type": "stream",
     "text": [
      "Enter a number: 'cat' is not a number.\n",
      "Enter a number: "
     ]
    }
   ],
   "source": [
    "import pyinputplus as pyip\n",
    "response = pyip.inputNum(prompt='Enter a number: ')"
   ]
  },
  {
   "cell_type": "code",
   "execution_count": 8,
   "id": "55c96962",
   "metadata": {},
   "outputs": [
    {
     "data": {
      "text/plain": [
       "42"
      ]
     },
     "execution_count": 8,
     "metadata": {},
     "output_type": "execute_result"
    }
   ],
   "source": [
    "response"
   ]
  },
  {
   "cell_type": "code",
   "execution_count": 1,
   "id": "bb1707b6",
   "metadata": {},
   "outputs": [
    {
     "name": "stdout",
     "output_type": "stream",
     "text": [
      "The digits must add up to 10, not 6.\n",
      "The digits must add up to 10, not 6.\n",
      "The digits must add up to 10, not 11.\n",
      "The digits must add up to 10, not 11.\n"
     ]
    }
   ],
   "source": [
    "import pyinputplus as pyip\n",
    "def addsUpToTen(numbers):\n",
    "    numbersList = list(numbers)\n",
    "    for i, digit in enumerate(numbersList):\n",
    "        numbersList[i] = int(digit)\n",
    "    if sum(numbersList) != 10:\n",
    "        raise Exception('The digits must add up to 10, not %s.' % (sum(numbersList)))\n",
    "    return int(numbers) # Return an int form of numbers.\n",
    "\n",
    "response = pyip.inputCustom(addsUpToTen)    # No parentheses after addsUpToTen here."
   ]
  },
  {
   "cell_type": "code",
   "execution_count": 2,
   "id": "c36deb49",
   "metadata": {},
   "outputs": [
    {
     "data": {
      "text/plain": [
       "1234"
      ]
     },
     "execution_count": 2,
     "metadata": {},
     "output_type": "execute_result"
    }
   ],
   "source": [
    "response"
   ]
  },
  {
   "cell_type": "code",
   "execution_count": 3,
   "id": "fd7f6e45",
   "metadata": {},
   "outputs": [
    {
     "name": "stdout",
     "output_type": "stream",
     "text": [
      "invalid literal for int() with base 10: 'h'\n"
     ]
    }
   ],
   "source": [
    "response = pyip.inputCustom(addsUpToTen)"
   ]
  },
  {
   "cell_type": "code",
   "execution_count": 4,
   "id": "5e5e3106",
   "metadata": {},
   "outputs": [
    {
     "data": {
      "text/plain": [
       "55"
      ]
     },
     "execution_count": 4,
     "metadata": {},
     "output_type": "execute_result"
    }
   ],
   "source": [
    "response"
   ]
  },
  {
   "cell_type": "code",
   "execution_count": null,
   "id": "07da946d",
   "metadata": {},
   "outputs": [],
   "source": []
  }
 ],
 "metadata": {
  "interpreter": {
   "hash": "3fca44e8a8d966755b74aae34a70af2c9ee2ebdbfb3aa82eef447cc2a8552b1d"
  },
  "kernelspec": {
   "display_name": "Python 3.10.0 64-bit",
   "language": "python",
   "name": "python3"
  },
  "language_info": {
   "codemirror_mode": {
    "name": "ipython",
    "version": 3
   },
   "file_extension": ".py",
   "mimetype": "text/x-python",
   "name": "python",
   "nbconvert_exporter": "python",
   "pygments_lexer": "ipython3",
   "version": "3.10.0"
  }
 },
 "nbformat": 4,
 "nbformat_minor": 5
}
