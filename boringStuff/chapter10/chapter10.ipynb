{
 "cells": [
  {
   "cell_type": "code",
   "execution_count": 5,
   "metadata": {},
   "outputs": [
    {
     "data": {
      "text/plain": [
       "'C:\\\\Users\\\\YangShuhao\\\\some_folder\\\\spam.txt'"
      ]
     },
     "execution_count": 5,
     "metadata": {},
     "output_type": "execute_result"
    }
   ],
   "source": [
    "import shutil, os\n",
    "from pathlib import Path\n",
    "p = Path.home()\n",
    "shutil.copy(p / 'spam.txt', p / 'some_folder')"
   ]
  },
  {
   "cell_type": "code",
   "execution_count": 6,
   "id": "c7323329",
   "metadata": {},
   "outputs": [
    {
     "data": {
      "text/plain": [
       "WindowsPath('C:/Users/YangShuhao/some_folder/eggs2.txt')"
      ]
     },
     "execution_count": 6,
     "metadata": {},
     "output_type": "execute_result"
    }
   ],
   "source": [
    "shutil.copy(p / 'eggs.txt', p / 'some_folder/eggs2.txt')"
   ]
  },
  {
   "cell_type": "code",
   "execution_count": 9,
   "id": "7aff6fc5",
   "metadata": {},
   "outputs": [
    {
     "data": {
      "text/plain": [
       "WindowsPath('C:/Users/YangShuhao/spam_backup')"
      ]
     },
     "execution_count": 9,
     "metadata": {},
     "output_type": "execute_result"
    }
   ],
   "source": [
    "import shutil, os\n",
    "from pathlib import Path\n",
    "p = Path.home()\n",
    "shutil.copytree(p / 'spam', p / 'spam_backup')"
   ]
  },
  {
   "cell_type": "code",
   "execution_count": 13,
   "id": "58f33138",
   "metadata": {},
   "outputs": [
    {
     "data": {
      "text/plain": [
       "'C:\\\\Users\\\\yangshuhao\\\\eggs\\\\bacon.txt'"
      ]
     },
     "execution_count": 13,
     "metadata": {},
     "output_type": "execute_result"
    }
   ],
   "source": [
    "import shutil\n",
    "shutil.move('C:\\\\Users\\\\yangshuhao\\\\bacon.txt', 'C:\\\\Users\\\\yangshuhao\\\\eggs')"
   ]
  },
  {
   "cell_type": "code",
   "execution_count": 16,
   "id": "27233d99",
   "metadata": {},
   "outputs": [
    {
     "data": {
      "text/plain": [
       "'C:\\\\Users\\\\yangshuhao\\\\eggs\\\\new_bacon.txt'"
      ]
     },
     "execution_count": 16,
     "metadata": {},
     "output_type": "execute_result"
    }
   ],
   "source": [
    "shutil.move('C:\\\\Users\\\\yangshuhao\\\\bacon.txt', 'C:\\\\Users\\\\yangshuhao\\\\eggs\\\\new_bacon.txt')"
   ]
  },
  {
   "cell_type": "code",
   "execution_count": 17,
   "id": "c733449e",
   "metadata": {},
   "outputs": [
    {
     "ename": "FileNotFoundError",
     "evalue": "[Errno 2] No such file or directory: 'spam.txt'",
     "output_type": "error",
     "traceback": [
      "\u001b[1;31m---------------------------------------------------------------------------\u001b[0m",
      "\u001b[1;31mFileNotFoundError\u001b[0m                         Traceback (most recent call last)",
      "File \u001b[1;32mc:\\Users\\YangShuhao\\AppData\\Local\\Programs\\Python\\Python310\\lib\\shutil.py:805\u001b[0m, in \u001b[0;36mmove\u001b[1;34m(src, dst, copy_function)\u001b[0m\n\u001b[0;32m    <a href='file:///c%3A/Users/YangShuhao/AppData/Local/Programs/Python/Python310/lib/shutil.py?line=803'>804</a>\u001b[0m \u001b[39mtry\u001b[39;00m:\n\u001b[1;32m--> <a href='file:///c%3A/Users/YangShuhao/AppData/Local/Programs/Python/Python310/lib/shutil.py?line=804'>805</a>\u001b[0m     os\u001b[39m.\u001b[39;49mrename(src, real_dst)\n\u001b[0;32m    <a href='file:///c%3A/Users/YangShuhao/AppData/Local/Programs/Python/Python310/lib/shutil.py?line=805'>806</a>\u001b[0m \u001b[39mexcept\u001b[39;00m \u001b[39mOSError\u001b[39;00m:\n",
      "\u001b[1;31mFileNotFoundError\u001b[0m: [WinError 2] 系统找不到指定的文件。: 'spam.txt' -> 'c:\\\\does_not_exit\\\\eggs\\\\ham'",
      "\nDuring handling of the above exception, another exception occurred:\n",
      "\u001b[1;31mFileNotFoundError\u001b[0m                         Traceback (most recent call last)",
      "\u001b[1;32mc:\\Users\\YangShuhao\\Coding\\python_work\\pythonLearning\\boringStuff\\chapter10.ipynb Cell 6'\u001b[0m in \u001b[0;36m<cell line: 1>\u001b[1;34m()\u001b[0m\n\u001b[1;32m----> <a href='vscode-notebook-cell:/c%3A/Users/YangShuhao/Coding/python_work/pythonLearning/boringStuff/chapter10.ipynb#ch0000005?line=0'>1</a>\u001b[0m shutil\u001b[39m.\u001b[39mmove(\u001b[39m'\u001b[39m\u001b[39mspam.txt\u001b[39m\u001b[39m'\u001b[39m, \u001b[39m'\u001b[39m\u001b[39mc:\u001b[39m\u001b[39m\\\\\u001b[39;00m\u001b[39mdoes_not_exit\u001b[39m\u001b[39m\\\\\u001b[39;00m\u001b[39meggs\u001b[39m\u001b[39m\\\\\u001b[39;00m\u001b[39mham\u001b[39m\u001b[39m'\u001b[39m)\n",
      "File \u001b[1;32mc:\\Users\\YangShuhao\\AppData\\Local\\Programs\\Python\\Python310\\lib\\shutil.py:825\u001b[0m, in \u001b[0;36mmove\u001b[1;34m(src, dst, copy_function)\u001b[0m\n\u001b[0;32m    <a href='file:///c%3A/Users/YangShuhao/AppData/Local/Programs/Python/Python310/lib/shutil.py?line=822'>823</a>\u001b[0m         rmtree(src)\n\u001b[0;32m    <a href='file:///c%3A/Users/YangShuhao/AppData/Local/Programs/Python/Python310/lib/shutil.py?line=823'>824</a>\u001b[0m     \u001b[39melse\u001b[39;00m:\n\u001b[1;32m--> <a href='file:///c%3A/Users/YangShuhao/AppData/Local/Programs/Python/Python310/lib/shutil.py?line=824'>825</a>\u001b[0m         copy_function(src, real_dst)\n\u001b[0;32m    <a href='file:///c%3A/Users/YangShuhao/AppData/Local/Programs/Python/Python310/lib/shutil.py?line=825'>826</a>\u001b[0m         os\u001b[39m.\u001b[39munlink(src)\n\u001b[0;32m    <a href='file:///c%3A/Users/YangShuhao/AppData/Local/Programs/Python/Python310/lib/shutil.py?line=826'>827</a>\u001b[0m \u001b[39mreturn\u001b[39;00m real_dst\n",
      "File \u001b[1;32mc:\\Users\\YangShuhao\\AppData\\Local\\Programs\\Python\\Python310\\lib\\shutil.py:434\u001b[0m, in \u001b[0;36mcopy2\u001b[1;34m(src, dst, follow_symlinks)\u001b[0m\n\u001b[0;32m    <a href='file:///c%3A/Users/YangShuhao/AppData/Local/Programs/Python/Python310/lib/shutil.py?line=431'>432</a>\u001b[0m \u001b[39mif\u001b[39;00m os\u001b[39m.\u001b[39mpath\u001b[39m.\u001b[39misdir(dst):\n\u001b[0;32m    <a href='file:///c%3A/Users/YangShuhao/AppData/Local/Programs/Python/Python310/lib/shutil.py?line=432'>433</a>\u001b[0m     dst \u001b[39m=\u001b[39m os\u001b[39m.\u001b[39mpath\u001b[39m.\u001b[39mjoin(dst, os\u001b[39m.\u001b[39mpath\u001b[39m.\u001b[39mbasename(src))\n\u001b[1;32m--> <a href='file:///c%3A/Users/YangShuhao/AppData/Local/Programs/Python/Python310/lib/shutil.py?line=433'>434</a>\u001b[0m copyfile(src, dst, follow_symlinks\u001b[39m=\u001b[39;49mfollow_symlinks)\n\u001b[0;32m    <a href='file:///c%3A/Users/YangShuhao/AppData/Local/Programs/Python/Python310/lib/shutil.py?line=434'>435</a>\u001b[0m copystat(src, dst, follow_symlinks\u001b[39m=\u001b[39mfollow_symlinks)\n\u001b[0;32m    <a href='file:///c%3A/Users/YangShuhao/AppData/Local/Programs/Python/Python310/lib/shutil.py?line=435'>436</a>\u001b[0m \u001b[39mreturn\u001b[39;00m dst\n",
      "File \u001b[1;32mc:\\Users\\YangShuhao\\AppData\\Local\\Programs\\Python\\Python310\\lib\\shutil.py:254\u001b[0m, in \u001b[0;36mcopyfile\u001b[1;34m(src, dst, follow_symlinks)\u001b[0m\n\u001b[0;32m    <a href='file:///c%3A/Users/YangShuhao/AppData/Local/Programs/Python/Python310/lib/shutil.py?line=251'>252</a>\u001b[0m     os\u001b[39m.\u001b[39msymlink(os\u001b[39m.\u001b[39mreadlink(src), dst)\n\u001b[0;32m    <a href='file:///c%3A/Users/YangShuhao/AppData/Local/Programs/Python/Python310/lib/shutil.py?line=252'>253</a>\u001b[0m \u001b[39melse\u001b[39;00m:\n\u001b[1;32m--> <a href='file:///c%3A/Users/YangShuhao/AppData/Local/Programs/Python/Python310/lib/shutil.py?line=253'>254</a>\u001b[0m     \u001b[39mwith\u001b[39;00m \u001b[39mopen\u001b[39;49m(src, \u001b[39m'\u001b[39;49m\u001b[39mrb\u001b[39;49m\u001b[39m'\u001b[39;49m) \u001b[39mas\u001b[39;00m fsrc:\n\u001b[0;32m    <a href='file:///c%3A/Users/YangShuhao/AppData/Local/Programs/Python/Python310/lib/shutil.py?line=254'>255</a>\u001b[0m         \u001b[39mtry\u001b[39;00m:\n\u001b[0;32m    <a href='file:///c%3A/Users/YangShuhao/AppData/Local/Programs/Python/Python310/lib/shutil.py?line=255'>256</a>\u001b[0m             \u001b[39mwith\u001b[39;00m \u001b[39mopen\u001b[39m(dst, \u001b[39m'\u001b[39m\u001b[39mwb\u001b[39m\u001b[39m'\u001b[39m) \u001b[39mas\u001b[39;00m fdst:\n\u001b[0;32m    <a href='file:///c%3A/Users/YangShuhao/AppData/Local/Programs/Python/Python310/lib/shutil.py?line=256'>257</a>\u001b[0m                 \u001b[39m# macOS\u001b[39;00m\n",
      "\u001b[1;31mFileNotFoundError\u001b[0m: [Errno 2] No such file or directory: 'spam.txt'"
     ]
    }
   ],
   "source": [
    "shutil.move('spam.txt', 'c:\\\\does_not_exit\\\\eggs\\\\ham')"
   ]
  },
  {
   "cell_type": "code",
   "execution_count": null,
   "id": "e6a4a536",
   "metadata": {},
   "outputs": [],
   "source": []
  }
 ],
 "metadata": {
  "interpreter": {
   "hash": "3fca44e8a8d966755b74aae34a70af2c9ee2ebdbfb3aa82eef447cc2a8552b1d"
  },
  "kernelspec": {
   "display_name": "Python 3.10.0 64-bit",
   "language": "python",
   "name": "python3"
  },
  "language_info": {
   "codemirror_mode": {
    "name": "ipython",
    "version": 3
   },
   "file_extension": ".py",
   "mimetype": "text/x-python",
   "name": "python",
   "nbconvert_exporter": "python",
   "pygments_lexer": "ipython3",
   "version": "3.10.0"
  }
 },
 "nbformat": 4,
 "nbformat_minor": 5
}
