{
 "cells": [
  {
   "cell_type": "code",
   "execution_count": 5,
   "metadata": {},
   "outputs": [
    {
     "data": {
      "text/plain": [
       "'C:\\\\Users\\\\YangShuhao\\\\some_folder\\\\spam.txt'"
      ]
     },
     "execution_count": 5,
     "metadata": {},
     "output_type": "execute_result"
    }
   ],
   "source": [
    "import shutil, os\n",
    "from pathlib import Path\n",
    "p = Path.home()\n",
    "shutil.copy(p / 'spam.txt', p / 'some_folder')"
   ]
  },
  {
   "cell_type": "code",
   "execution_count": 6,
   "id": "c7323329",
   "metadata": {},
   "outputs": [
    {
     "data": {
      "text/plain": [
       "WindowsPath('C:/Users/YangShuhao/some_folder/eggs2.txt')"
      ]
     },
     "execution_count": 6,
     "metadata": {},
     "output_type": "execute_result"
    }
   ],
   "source": [
    "shutil.copy(p / 'eggs.txt', p / 'some_folder/eggs2.txt')"
   ]
  },
  {
   "cell_type": "code",
   "execution_count": 9,
   "id": "7aff6fc5",
   "metadata": {},
   "outputs": [
    {
     "data": {
      "text/plain": [
       "WindowsPath('C:/Users/YangShuhao/spam_backup')"
      ]
     },
     "execution_count": 9,
     "metadata": {},
     "output_type": "execute_result"
    }
   ],
   "source": [
    "import shutil, os\n",
    "from pathlib import Path\n",
    "p = Path.home()\n",
    "shutil.copytree(p / 'spam', p / 'spam_backup')"
   ]
  },
  {
   "cell_type": "code",
   "execution_count": 13,
   "id": "58f33138",
   "metadata": {},
   "outputs": [
    {
     "data": {
      "text/plain": [
       "'C:\\\\Users\\\\yangshuhao\\\\eggs\\\\bacon.txt'"
      ]
     },
     "execution_count": 13,
     "metadata": {},
     "output_type": "execute_result"
    }
   ],
   "source": [
    "import shutil\n",
    "shutil.move('C:\\\\Users\\\\yangshuhao\\\\bacon.txt', 'C:\\\\Users\\\\yangshuhao\\\\eggs')"
   ]
  },
  {
   "cell_type": "code",
   "execution_count": 16,
   "id": "27233d99",
   "metadata": {},
   "outputs": [
    {
     "data": {
      "text/plain": [
       "'C:\\\\Users\\\\yangshuhao\\\\eggs\\\\new_bacon.txt'"
      ]
     },
     "execution_count": 16,
     "metadata": {},
     "output_type": "execute_result"
    }
   ],
   "source": [
    "shutil.move('C:\\\\Users\\\\yangshuhao\\\\bacon.txt', 'C:\\\\Users\\\\yangshuhao\\\\eggs\\\\new_bacon.txt')"
   ]
  },
  {
   "cell_type": "code",
   "execution_count": 17,
   "id": "c733449e",
   "metadata": {},
   "outputs": [
    {
     "ename": "FileNotFoundError",
     "evalue": "[Errno 2] No such file or directory: 'spam.txt'",
     "output_type": "error",
     "traceback": [
      "\u001b[1;31m---------------------------------------------------------------------------\u001b[0m",
      "\u001b[1;31mFileNotFoundError\u001b[0m                         Traceback (most recent call last)",
      "File \u001b[1;32mc:\\Users\\YangShuhao\\AppData\\Local\\Programs\\Python\\Python310\\lib\\shutil.py:805\u001b[0m, in \u001b[0;36mmove\u001b[1;34m(src, dst, copy_function)\u001b[0m\n\u001b[0;32m    <a href='file:///c%3A/Users/YangShuhao/AppData/Local/Programs/Python/Python310/lib/shutil.py?line=803'>804</a>\u001b[0m \u001b[39mtry\u001b[39;00m:\n\u001b[1;32m--> <a href='file:///c%3A/Users/YangShuhao/AppData/Local/Programs/Python/Python310/lib/shutil.py?line=804'>805</a>\u001b[0m     os\u001b[39m.\u001b[39;49mrename(src, real_dst)\n\u001b[0;32m    <a href='file:///c%3A/Users/YangShuhao/AppData/Local/Programs/Python/Python310/lib/shutil.py?line=805'>806</a>\u001b[0m \u001b[39mexcept\u001b[39;00m \u001b[39mOSError\u001b[39;00m:\n",
      "\u001b[1;31mFileNotFoundError\u001b[0m: [WinError 2] 系统找不到指定的文件。: 'spam.txt' -> 'c:\\\\does_not_exit\\\\eggs\\\\ham'",
      "\nDuring handling of the above exception, another exception occurred:\n",
      "\u001b[1;31mFileNotFoundError\u001b[0m                         Traceback (most recent call last)",
      "\u001b[1;32mc:\\Users\\YangShuhao\\Coding\\python_work\\pythonLearning\\boringStuff\\chapter10.ipynb Cell 6'\u001b[0m in \u001b[0;36m<cell line: 1>\u001b[1;34m()\u001b[0m\n\u001b[1;32m----> <a href='vscode-notebook-cell:/c%3A/Users/YangShuhao/Coding/python_work/pythonLearning/boringStuff/chapter10.ipynb#ch0000005?line=0'>1</a>\u001b[0m shutil\u001b[39m.\u001b[39mmove(\u001b[39m'\u001b[39m\u001b[39mspam.txt\u001b[39m\u001b[39m'\u001b[39m, \u001b[39m'\u001b[39m\u001b[39mc:\u001b[39m\u001b[39m\\\\\u001b[39;00m\u001b[39mdoes_not_exit\u001b[39m\u001b[39m\\\\\u001b[39;00m\u001b[39meggs\u001b[39m\u001b[39m\\\\\u001b[39;00m\u001b[39mham\u001b[39m\u001b[39m'\u001b[39m)\n",
      "File \u001b[1;32mc:\\Users\\YangShuhao\\AppData\\Local\\Programs\\Python\\Python310\\lib\\shutil.py:825\u001b[0m, in \u001b[0;36mmove\u001b[1;34m(src, dst, copy_function)\u001b[0m\n\u001b[0;32m    <a href='file:///c%3A/Users/YangShuhao/AppData/Local/Programs/Python/Python310/lib/shutil.py?line=822'>823</a>\u001b[0m         rmtree(src)\n\u001b[0;32m    <a href='file:///c%3A/Users/YangShuhao/AppData/Local/Programs/Python/Python310/lib/shutil.py?line=823'>824</a>\u001b[0m     \u001b[39melse\u001b[39;00m:\n\u001b[1;32m--> <a href='file:///c%3A/Users/YangShuhao/AppData/Local/Programs/Python/Python310/lib/shutil.py?line=824'>825</a>\u001b[0m         copy_function(src, real_dst)\n\u001b[0;32m    <a href='file:///c%3A/Users/YangShuhao/AppData/Local/Programs/Python/Python310/lib/shutil.py?line=825'>826</a>\u001b[0m         os\u001b[39m.\u001b[39munlink(src)\n\u001b[0;32m    <a href='file:///c%3A/Users/YangShuhao/AppData/Local/Programs/Python/Python310/lib/shutil.py?line=826'>827</a>\u001b[0m \u001b[39mreturn\u001b[39;00m real_dst\n",
      "File \u001b[1;32mc:\\Users\\YangShuhao\\AppData\\Local\\Programs\\Python\\Python310\\lib\\shutil.py:434\u001b[0m, in \u001b[0;36mcopy2\u001b[1;34m(src, dst, follow_symlinks)\u001b[0m\n\u001b[0;32m    <a href='file:///c%3A/Users/YangShuhao/AppData/Local/Programs/Python/Python310/lib/shutil.py?line=431'>432</a>\u001b[0m \u001b[39mif\u001b[39;00m os\u001b[39m.\u001b[39mpath\u001b[39m.\u001b[39misdir(dst):\n\u001b[0;32m    <a href='file:///c%3A/Users/YangShuhao/AppData/Local/Programs/Python/Python310/lib/shutil.py?line=432'>433</a>\u001b[0m     dst \u001b[39m=\u001b[39m os\u001b[39m.\u001b[39mpath\u001b[39m.\u001b[39mjoin(dst, os\u001b[39m.\u001b[39mpath\u001b[39m.\u001b[39mbasename(src))\n\u001b[1;32m--> <a href='file:///c%3A/Users/YangShuhao/AppData/Local/Programs/Python/Python310/lib/shutil.py?line=433'>434</a>\u001b[0m copyfile(src, dst, follow_symlinks\u001b[39m=\u001b[39;49mfollow_symlinks)\n\u001b[0;32m    <a href='file:///c%3A/Users/YangShuhao/AppData/Local/Programs/Python/Python310/lib/shutil.py?line=434'>435</a>\u001b[0m copystat(src, dst, follow_symlinks\u001b[39m=\u001b[39mfollow_symlinks)\n\u001b[0;32m    <a href='file:///c%3A/Users/YangShuhao/AppData/Local/Programs/Python/Python310/lib/shutil.py?line=435'>436</a>\u001b[0m \u001b[39mreturn\u001b[39;00m dst\n",
      "File \u001b[1;32mc:\\Users\\YangShuhao\\AppData\\Local\\Programs\\Python\\Python310\\lib\\shutil.py:254\u001b[0m, in \u001b[0;36mcopyfile\u001b[1;34m(src, dst, follow_symlinks)\u001b[0m\n\u001b[0;32m    <a href='file:///c%3A/Users/YangShuhao/AppData/Local/Programs/Python/Python310/lib/shutil.py?line=251'>252</a>\u001b[0m     os\u001b[39m.\u001b[39msymlink(os\u001b[39m.\u001b[39mreadlink(src), dst)\n\u001b[0;32m    <a href='file:///c%3A/Users/YangShuhao/AppData/Local/Programs/Python/Python310/lib/shutil.py?line=252'>253</a>\u001b[0m \u001b[39melse\u001b[39;00m:\n\u001b[1;32m--> <a href='file:///c%3A/Users/YangShuhao/AppData/Local/Programs/Python/Python310/lib/shutil.py?line=253'>254</a>\u001b[0m     \u001b[39mwith\u001b[39;00m \u001b[39mopen\u001b[39;49m(src, \u001b[39m'\u001b[39;49m\u001b[39mrb\u001b[39;49m\u001b[39m'\u001b[39;49m) \u001b[39mas\u001b[39;00m fsrc:\n\u001b[0;32m    <a href='file:///c%3A/Users/YangShuhao/AppData/Local/Programs/Python/Python310/lib/shutil.py?line=254'>255</a>\u001b[0m         \u001b[39mtry\u001b[39;00m:\n\u001b[0;32m    <a href='file:///c%3A/Users/YangShuhao/AppData/Local/Programs/Python/Python310/lib/shutil.py?line=255'>256</a>\u001b[0m             \u001b[39mwith\u001b[39;00m \u001b[39mopen\u001b[39m(dst, \u001b[39m'\u001b[39m\u001b[39mwb\u001b[39m\u001b[39m'\u001b[39m) \u001b[39mas\u001b[39;00m fdst:\n\u001b[0;32m    <a href='file:///c%3A/Users/YangShuhao/AppData/Local/Programs/Python/Python310/lib/shutil.py?line=256'>257</a>\u001b[0m                 \u001b[39m# macOS\u001b[39;00m\n",
      "\u001b[1;31mFileNotFoundError\u001b[0m: [Errno 2] No such file or directory: 'spam.txt'"
     ]
    }
   ],
   "source": [
    "shutil.move('spam.txt', 'c:\\\\does_not_exit\\\\eggs\\\\ham')"
   ]
  },
  {
   "cell_type": "code",
   "execution_count": 2,
   "id": "e6a4a536",
   "metadata": {},
   "outputs": [
    {
     "name": "stdout",
     "output_type": "stream",
     "text": [
      "C:\\Users\\YangShuhao\\eggs.txt\n",
      "C:\\Users\\YangShuhao\\hello.txt\n",
      "C:\\Users\\YangShuhao\\new_bacon.txt\n",
      "C:\\Users\\YangShuhao\\osmc_installer_log.txt\n",
      "C:\\Users\\YangShuhao\\pet.txt\n",
      "C:\\Users\\YangShuhao\\sonnet29.txt\n",
      "C:\\Users\\YangShuhao\\spam.txt\n"
     ]
    }
   ],
   "source": [
    "import os\n",
    "from pathlib import Path\n",
    "for filename in Path.home().glob('*.txt'):\n",
    "    # os.unlink(filename)\n",
    "    print(filename)"
   ]
  },
  {
   "cell_type": "code",
   "execution_count": 3,
   "id": "ab30f152",
   "metadata": {},
   "outputs": [],
   "source": [
    "import os\n",
    "from pathlib import Path\n",
    "for filename in Path.home().glob('*.txt'):\n",
    "    os.unlink(filename)"
   ]
  },
  {
   "cell_type": "code",
   "execution_count": 4,
   "id": "22f8af9e",
   "metadata": {},
   "outputs": [
    {
     "data": {
      "text/plain": [
       "23"
      ]
     },
     "execution_count": 4,
     "metadata": {},
     "output_type": "execute_result"
    }
   ],
   "source": [
    "import send2trash\n",
    "baconFile = open('bacon.txt', 'a') # create the file\n",
    "baconFile.write('Bacon is not vegetable.')"
   ]
  },
  {
   "cell_type": "code",
   "execution_count": 5,
   "id": "9a575f59",
   "metadata": {},
   "outputs": [],
   "source": [
    "baconFile.close()"
   ]
  },
  {
   "cell_type": "code",
   "execution_count": 6,
   "id": "cab7da09",
   "metadata": {},
   "outputs": [],
   "source": [
    "send2trash.send2trash('bacon.txt')"
   ]
  },
  {
   "cell_type": "code",
   "execution_count": 7,
   "id": "1608e540",
   "metadata": {},
   "outputs": [
    {
     "name": "stdout",
     "output_type": "stream",
     "text": [
      "The current folder is C:\\delicious\n",
      "SUBFOLDER OF C:\\delicious: cats\n",
      "SUBFOLDER OF C:\\delicious: walnut\n",
      "FILE INDISEC:\\delicious: spam.txt\n",
      "\n",
      "The current folder is C:\\delicious\\cats\n",
      "FILE INDISEC:\\delicious\\cats: catnames.txt\n",
      "FILE INDISEC:\\delicious\\cats: zophie.png\n",
      "\n",
      "The current folder is C:\\delicious\\walnut\n",
      "SUBFOLDER OF C:\\delicious\\walnut: waffles\n",
      "\n",
      "The current folder is C:\\delicious\\walnut\\waffles\n",
      "FILE INDISEC:\\delicious\\walnut\\waffles: butter.txt\n",
      "\n"
     ]
    }
   ],
   "source": [
    "import os\n",
    "for folderName, subfolders, filenames in os.walk('C:\\\\delicious'):\n",
    "    print('The current folder is ' + folderName)\n",
    "\n",
    "    for subfolder in subfolders:\n",
    "        print('SUBFOLDER OF ' + folderName + ': ' + subfolder)\n",
    "\n",
    "    for filename in filenames:\n",
    "        print('FILE INDISE' + folderName + ': ' + filename)\n",
    "\n",
    "    print('')"
   ]
  },
  {
   "cell_type": "code",
   "execution_count": 8,
   "id": "e29f4da0",
   "metadata": {},
   "outputs": [
    {
     "data": {
      "text/plain": [
       "['spam.txt', 'cats/', 'cats/catnames.txt', 'cats/zophie.jpg']"
      ]
     },
     "execution_count": 8,
     "metadata": {},
     "output_type": "execute_result"
    }
   ],
   "source": [
    "import zipfile, os\n",
    "\n",
    "from pathlib import Path\n",
    "p = Path.home()\n",
    "exampleZip = zipfile.ZipFile(p / 'example.zip')\n",
    "exampleZip.namelist()"
   ]
  },
  {
   "cell_type": "code",
   "execution_count": 9,
   "id": "b76f52d9",
   "metadata": {},
   "outputs": [
    {
     "data": {
      "text/plain": [
       "13908"
      ]
     },
     "execution_count": 9,
     "metadata": {},
     "output_type": "execute_result"
    }
   ],
   "source": [
    "spamInfo = exampleZip.getinfo('spam.txt')\n",
    "spamInfo.file_size"
   ]
  },
  {
   "cell_type": "code",
   "execution_count": 10,
   "id": "0e2eef8f",
   "metadata": {},
   "outputs": [
    {
     "data": {
      "text/plain": [
       "3828"
      ]
     },
     "execution_count": 10,
     "metadata": {},
     "output_type": "execute_result"
    }
   ],
   "source": [
    "spamInfo.compress_size"
   ]
  },
  {
   "cell_type": "code",
   "execution_count": 11,
   "id": "2d4cb5bf",
   "metadata": {},
   "outputs": [
    {
     "data": {
      "text/plain": [
       "'Compressed file is 3.63x smaller!'"
      ]
     },
     "execution_count": 11,
     "metadata": {},
     "output_type": "execute_result"
    }
   ],
   "source": [
    "f'Compressed file is {round(spamInfo.file_size /  spamInfo.compress_size, 2)}x smaller!'"
   ]
  },
  {
   "cell_type": "code",
   "execution_count": 12,
   "id": "39783b4d",
   "metadata": {},
   "outputs": [],
   "source": [
    "exampleZip.close()"
   ]
  },
  {
   "cell_type": "code",
   "execution_count": 13,
   "id": "51195b16",
   "metadata": {},
   "outputs": [],
   "source": [
    "import zipfile, os\n",
    "from pathlib import Path \n",
    "p = Path.home()\n",
    "exampleZip = zipfile.ZipFile(p / 'example.zip')\n",
    "exampleZip.extractall()\n",
    "exampleZip.close()"
   ]
  },
  {
   "cell_type": "code",
   "execution_count": 15,
   "id": "84059fe1",
   "metadata": {},
   "outputs": [
    {
     "data": {
      "text/plain": [
       "'c:\\\\Users\\\\YangShuhao\\\\Coding\\\\python_work\\\\pythonLearning\\\\boringStuff\\\\spam.txt'"
      ]
     },
     "execution_count": 15,
     "metadata": {},
     "output_type": "execute_result"
    }
   ],
   "source": [
    "exampleZip = zipfile.ZipFile(p / 'example.zip')\n",
    "exampleZip.extract('spam.txt')"
   ]
  },
  {
   "cell_type": "code",
   "execution_count": 16,
   "id": "021f6064",
   "metadata": {},
   "outputs": [
    {
     "data": {
      "text/plain": [
       "'C:\\\\some\\\\new\\\\folders\\\\spam.txt'"
      ]
     },
     "execution_count": 16,
     "metadata": {},
     "output_type": "execute_result"
    }
   ],
   "source": [
    "exampleZip.extract('spam.txt', 'C:\\\\some\\\\new\\\\folders')"
   ]
  },
  {
   "cell_type": "code",
   "execution_count": 17,
   "id": "a387c17c",
   "metadata": {},
   "outputs": [],
   "source": [
    "exampleZip.close()"
   ]
  },
  {
   "cell_type": "code",
   "execution_count": 18,
   "id": "239856c5",
   "metadata": {},
   "outputs": [],
   "source": [
    "import zipfile\n",
    "newZip = zipfile.ZipFile('new.zip', 'w')\n",
    "newZip.write('spam.txt', compress_type=zipfile.ZIP_DEFLATED)\n",
    "newZip.close()"
   ]
  },
  {
   "cell_type": "code",
   "execution_count": null,
   "id": "7bd56e53",
   "metadata": {},
   "outputs": [],
   "source": []
  }
 ],
 "metadata": {
  "interpreter": {
   "hash": "3fca44e8a8d966755b74aae34a70af2c9ee2ebdbfb3aa82eef447cc2a8552b1d"
  },
  "kernelspec": {
   "display_name": "Python 3.10.0 64-bit",
   "language": "python",
   "name": "python3"
  },
  "language_info": {
   "codemirror_mode": {
    "name": "ipython",
    "version": 3
   },
   "file_extension": ".py",
   "mimetype": "text/x-python",
   "name": "python",
   "nbconvert_exporter": "python",
   "pygments_lexer": "ipython3",
   "version": "3.10.0"
  }
 },
 "nbformat": 4,
 "nbformat_minor": 5
}
