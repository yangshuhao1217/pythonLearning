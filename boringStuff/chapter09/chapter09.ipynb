{
 "cells": [
  {
   "cell_type": "code",
   "execution_count": 1,
   "metadata": {},
   "outputs": [
    {
     "data": {
      "text/plain": [
       "WindowsPath('spam/bacon/eggs')"
      ]
     },
     "execution_count": 1,
     "metadata": {},
     "output_type": "execute_result"
    }
   ],
   "source": [
    "from pathlib import Path\n",
    "Path('spam', 'bacon', 'eggs')"
   ]
  },
  {
   "cell_type": "code",
   "execution_count": 2,
   "id": "8d41f43b",
   "metadata": {},
   "outputs": [
    {
     "data": {
      "text/plain": [
       "'spam\\\\bacon\\\\eggs'"
      ]
     },
     "execution_count": 2,
     "metadata": {},
     "output_type": "execute_result"
    }
   ],
   "source": [
    "str(Path('spam', 'bacon', 'eggs'))"
   ]
  },
  {
   "cell_type": "code",
   "execution_count": 3,
   "id": "fd1714f8",
   "metadata": {},
   "outputs": [
    {
     "name": "stdout",
     "output_type": "stream",
     "text": [
      "C:\\Users\\Al\\accounts.txt\n",
      "C:\\Users\\Al\\details.csv\n",
      "C:\\Users\\Al\\invite.docx\n"
     ]
    }
   ],
   "source": [
    "from pathlib import Path\n",
    "myFiles = ['accounts.txt', 'details.csv', 'invite.docx']\n",
    "for filename in myFiles:\n",
    "    print(Path(r'C:\\Users\\Al', filename))"
   ]
  },
  {
   "cell_type": "code",
   "execution_count": 4,
   "id": "b0dfdaad",
   "metadata": {},
   "outputs": [
    {
     "data": {
      "text/plain": [
       "WindowsPath('spam/bacon/eggs')"
      ]
     },
     "execution_count": 4,
     "metadata": {},
     "output_type": "execute_result"
    }
   ],
   "source": [
    "from pathlib import Path\n",
    "Path('spam') / 'bacon' / 'eggs'"
   ]
  },
  {
   "cell_type": "code",
   "execution_count": 5,
   "id": "04c2fbd2",
   "metadata": {},
   "outputs": [
    {
     "data": {
      "text/plain": [
       "WindowsPath('spam/bacon/eggs')"
      ]
     },
     "execution_count": 5,
     "metadata": {},
     "output_type": "execute_result"
    }
   ],
   "source": [
    "Path('spam') / Path('bacon/eggs')"
   ]
  },
  {
   "cell_type": "code",
   "execution_count": 6,
   "id": "6548c448",
   "metadata": {},
   "outputs": [
    {
     "data": {
      "text/plain": [
       "WindowsPath('spam/bacon/eggs')"
      ]
     },
     "execution_count": 6,
     "metadata": {},
     "output_type": "execute_result"
    }
   ],
   "source": [
    "Path('spam') / Path('bacon', 'eggs')"
   ]
  },
  {
   "cell_type": "code",
   "execution_count": 7,
   "id": "609d346b",
   "metadata": {},
   "outputs": [
    {
     "data": {
      "text/plain": [
       "'C:\\\\Users\\\\Al\\\\spam'"
      ]
     },
     "execution_count": 7,
     "metadata": {},
     "output_type": "execute_result"
    }
   ],
   "source": [
    "homeFolder = r'C:\\Users\\Al'\n",
    "subFolder = 'spam'\n",
    "homeFolder + '\\\\' + subFolder"
   ]
  },
  {
   "cell_type": "code",
   "execution_count": 8,
   "id": "6b99e725",
   "metadata": {},
   "outputs": [
    {
     "data": {
      "text/plain": [
       "'C:\\\\Users\\\\Al\\\\spam'"
      ]
     },
     "execution_count": 8,
     "metadata": {},
     "output_type": "execute_result"
    }
   ],
   "source": [
    "'\\\\'.join([homeFolder, subFolder])"
   ]
  },
  {
   "cell_type": "code",
   "execution_count": 9,
   "id": "fb5d3c7f",
   "metadata": {},
   "outputs": [
    {
     "data": {
      "text/plain": [
       "WindowsPath('C:/Users/Al/spam')"
      ]
     },
     "execution_count": 9,
     "metadata": {},
     "output_type": "execute_result"
    }
   ],
   "source": [
    "homeFolder = Path('C:/Users/Al')\n",
    "subFolder = Path('spam')\n",
    "homeFolder / subFolder"
   ]
  },
  {
   "cell_type": "code",
   "execution_count": 10,
   "id": "b32e2a46",
   "metadata": {},
   "outputs": [
    {
     "data": {
      "text/plain": [
       "'C:\\\\Users\\\\Al\\\\spam'"
      ]
     },
     "execution_count": 10,
     "metadata": {},
     "output_type": "execute_result"
    }
   ],
   "source": [
    "str(homeFolder / subFolder)"
   ]
  },
  {
   "cell_type": "code",
   "execution_count": 11,
   "id": "d82c9291",
   "metadata": {},
   "outputs": [
    {
     "ename": "TypeError",
     "evalue": "unsupported operand type(s) for /: 'str' and 'str'",
     "output_type": "error",
     "traceback": [
      "\u001b[1;31m---------------------------------------------------------------------------\u001b[0m",
      "\u001b[1;31mTypeError\u001b[0m                                 Traceback (most recent call last)",
      "\u001b[1;32mc:\\Users\\YangShuhao\\Coding\\python_work\\pythonLearning\\boringStuff\\chapter09\\chapter09.ipynb Cell 11'\u001b[0m in \u001b[0;36m<cell line: 1>\u001b[1;34m()\u001b[0m\n\u001b[1;32m----> <a href='vscode-notebook-cell:/c%3A/Users/YangShuhao/Coding/python_work/pythonLearning/boringStuff/chapter09/chapter09.ipynb#ch0000010?line=0'>1</a>\u001b[0m \u001b[39m'\u001b[39m\u001b[39mspam\u001b[39m\u001b[39m'\u001b[39m \u001b[39m/\u001b[39m \u001b[39m'\u001b[39m\u001b[39mbacon\u001b[39m\u001b[39m'\u001b[39m \u001b[39m/\u001b[39m \u001b[39m'\u001b[39m\u001b[39meggs\u001b[39m\u001b[39m'\u001b[39m\n",
      "\u001b[1;31mTypeError\u001b[0m: unsupported operand type(s) for /: 'str' and 'str'"
     ]
    }
   ],
   "source": [
    "'spam' / 'bacon' / 'eggs'"
   ]
  },
  {
   "cell_type": "code",
   "execution_count": 12,
   "id": "aba6e9c0",
   "metadata": {},
   "outputs": [
    {
     "data": {
      "text/plain": [
       "WindowsPath('c:/Users/YangShuhao/Coding/python_work/pythonLearning/boringStuff/chapter09')"
      ]
     },
     "execution_count": 12,
     "metadata": {},
     "output_type": "execute_result"
    }
   ],
   "source": [
    "from pathlib import Path\n",
    "import os\n",
    "Path.cwd()"
   ]
  },
  {
   "cell_type": "code",
   "execution_count": 13,
   "id": "e6eaed8a",
   "metadata": {},
   "outputs": [],
   "source": [
    "os.chdir('C:\\\\Windows\\\\System32')"
   ]
  },
  {
   "cell_type": "code",
   "execution_count": 14,
   "id": "8b40ced9",
   "metadata": {},
   "outputs": [
    {
     "data": {
      "text/plain": [
       "WindowsPath('C:/Windows/System32')"
      ]
     },
     "execution_count": 14,
     "metadata": {},
     "output_type": "execute_result"
    }
   ],
   "source": [
    "Path.cwd()"
   ]
  },
  {
   "cell_type": "code",
   "execution_count": 15,
   "id": "2d0e0204",
   "metadata": {},
   "outputs": [
    {
     "ename": "FileNotFoundError",
     "evalue": "[WinError 2] 系统找不到指定的文件。: 'C:/ThisFolderDoesNotExit'",
     "output_type": "error",
     "traceback": [
      "\u001b[1;31m---------------------------------------------------------------------------\u001b[0m",
      "\u001b[1;31mFileNotFoundError\u001b[0m                         Traceback (most recent call last)",
      "\u001b[1;32mc:\\Users\\YangShuhao\\Coding\\python_work\\pythonLearning\\boringStuff\\chapter09\\chapter09.ipynb Cell 15'\u001b[0m in \u001b[0;36m<cell line: 1>\u001b[1;34m()\u001b[0m\n\u001b[1;32m----> <a href='vscode-notebook-cell:/c%3A/Users/YangShuhao/Coding/python_work/pythonLearning/boringStuff/chapter09/chapter09.ipynb#ch0000014?line=0'>1</a>\u001b[0m os\u001b[39m.\u001b[39mchdir(\u001b[39m'\u001b[39m\u001b[39mC:/ThisFolderDoesNotExit\u001b[39m\u001b[39m'\u001b[39m)\n",
      "\u001b[1;31mFileNotFoundError\u001b[0m: [WinError 2] 系统找不到指定的文件。: 'C:/ThisFolderDoesNotExit'"
     ]
    }
   ],
   "source": [
    "os.chdir('C:/ThisFolderDoesNotExit')"
   ]
  },
  {
   "cell_type": "code",
   "execution_count": 16,
   "id": "d777cb46",
   "metadata": {},
   "outputs": [
    {
     "data": {
      "text/plain": [
       "WindowsPath('C:/Windows/System32')"
      ]
     },
     "execution_count": 16,
     "metadata": {},
     "output_type": "execute_result"
    }
   ],
   "source": [
    "Path.cwd()"
   ]
  },
  {
   "cell_type": "code",
   "execution_count": 17,
   "id": "59c68a26",
   "metadata": {},
   "outputs": [
    {
     "data": {
      "text/plain": [
       "WindowsPath('C:/Users/YangShuhao')"
      ]
     },
     "execution_count": 17,
     "metadata": {},
     "output_type": "execute_result"
    }
   ],
   "source": [
    "Path.home()"
   ]
  },
  {
   "cell_type": "code",
   "execution_count": 18,
   "id": "59f98a43",
   "metadata": {},
   "outputs": [],
   "source": [
    "import os\n",
    "os.makedirs('C:\\\\delicious\\\\walnut\\\\waffles')"
   ]
  },
  {
   "cell_type": "code",
   "execution_count": 19,
   "id": "007de78c",
   "metadata": {},
   "outputs": [],
   "source": [
    "from pathlib import Path\n",
    "Path(r'C:\\Users\\\\yangshuhao\\spam').mkdir()"
   ]
  },
  {
   "cell_type": "code",
   "execution_count": 1,
   "id": "06116996",
   "metadata": {},
   "outputs": [
    {
     "data": {
      "text/plain": [
       "WindowsPath('c:/Users/YangShuhao/Coding/python_work/pythonLearning/boringStuff/chapter09')"
      ]
     },
     "execution_count": 1,
     "metadata": {},
     "output_type": "execute_result"
    }
   ],
   "source": [
    "from pathlib import Path\n",
    "Path.cwd()"
   ]
  },
  {
   "cell_type": "code",
   "execution_count": 2,
   "id": "3e58dd03",
   "metadata": {},
   "outputs": [
    {
     "data": {
      "text/plain": [
       "WindowsPath('c:/Users/YangShuhao/Coding/python_work/pythonLearning/boringStuff')"
      ]
     },
     "execution_count": 2,
     "metadata": {},
     "output_type": "execute_result"
    }
   ],
   "source": [
    "Path.cwd().parents[0]"
   ]
  },
  {
   "cell_type": "code",
   "execution_count": 3,
   "id": "2c2e119b",
   "metadata": {},
   "outputs": [
    {
     "data": {
      "text/plain": [
       "WindowsPath('c:/Users/YangShuhao/Coding/python_work/pythonLearning')"
      ]
     },
     "execution_count": 3,
     "metadata": {},
     "output_type": "execute_result"
    }
   ],
   "source": [
    "Path.cwd().parents[1]"
   ]
  },
  {
   "cell_type": "code",
   "execution_count": 4,
   "id": "d91b3844",
   "metadata": {},
   "outputs": [
    {
     "data": {
      "text/plain": [
       "WindowsPath('c:/Users/YangShuhao/Coding/python_work')"
      ]
     },
     "execution_count": 4,
     "metadata": {},
     "output_type": "execute_result"
    }
   ],
   "source": [
    "Path.cwd().parents[2]"
   ]
  },
  {
   "cell_type": "code",
   "execution_count": 5,
   "id": "4da101f9",
   "metadata": {},
   "outputs": [
    {
     "data": {
      "text/plain": [
       "WindowsPath('c:/Users/YangShuhao/Coding')"
      ]
     },
     "execution_count": 5,
     "metadata": {},
     "output_type": "execute_result"
    }
   ],
   "source": [
    "Path.cwd().parents[3]"
   ]
  },
  {
   "cell_type": "code",
   "execution_count": 6,
   "id": "1568820e",
   "metadata": {},
   "outputs": [
    {
     "data": {
      "text/plain": [
       "WindowsPath('c:/Users/YangShuhao')"
      ]
     },
     "execution_count": 6,
     "metadata": {},
     "output_type": "execute_result"
    }
   ],
   "source": [
    "Path.cwd().parents[4]"
   ]
  },
  {
   "cell_type": "code",
   "execution_count": 7,
   "id": "906e9553",
   "metadata": {},
   "outputs": [
    {
     "data": {
      "text/plain": [
       "WindowsPath('c:/Users')"
      ]
     },
     "execution_count": 7,
     "metadata": {},
     "output_type": "execute_result"
    }
   ],
   "source": [
    "Path.cwd().parents[5]"
   ]
  },
  {
   "cell_type": "code",
   "execution_count": 8,
   "id": "318b6958",
   "metadata": {},
   "outputs": [
    {
     "data": {
      "text/plain": [
       "WindowsPath('c:/')"
      ]
     },
     "execution_count": 8,
     "metadata": {},
     "output_type": "execute_result"
    }
   ],
   "source": [
    "Path.cwd().parents[6]"
   ]
  },
  {
   "cell_type": "code",
   "execution_count": 9,
   "id": "b37180da",
   "metadata": {},
   "outputs": [
    {
     "data": {
      "text/plain": [
       "'calc.exe'"
      ]
     },
     "execution_count": 9,
     "metadata": {},
     "output_type": "execute_result"
    }
   ],
   "source": [
    "calcFilePath = 'C:\\\\Windows\\\\System32\\\\calc.exe'\n",
    "os.path.basename(calcFilePath)"
   ]
  },
  {
   "cell_type": "code",
   "execution_count": 10,
   "id": "b43c19dc",
   "metadata": {},
   "outputs": [
    {
     "data": {
      "text/plain": [
       "'C:\\\\Windows\\\\System32'"
      ]
     },
     "execution_count": 10,
     "metadata": {},
     "output_type": "execute_result"
    }
   ],
   "source": [
    "os.path.dirname(calcFilePath)"
   ]
  },
  {
   "cell_type": "code",
   "execution_count": 11,
   "id": "731e487d",
   "metadata": {},
   "outputs": [
    {
     "data": {
      "text/plain": [
       "('C:\\\\Windows\\\\System32', 'calc.exe')"
      ]
     },
     "execution_count": 11,
     "metadata": {},
     "output_type": "execute_result"
    }
   ],
   "source": [
    "os.path.split(calcFilePath)"
   ]
  },
  {
   "cell_type": "code",
   "execution_count": 12,
   "id": "b56bb3fc",
   "metadata": {},
   "outputs": [
    {
     "data": {
      "text/plain": [
       "('C:\\\\Windows\\\\System32', 'calc.exe')"
      ]
     },
     "execution_count": 12,
     "metadata": {},
     "output_type": "execute_result"
    }
   ],
   "source": [
    "(os.path.dirname(calcFilePath), os.path.basename(calcFilePath))"
   ]
  },
  {
   "cell_type": "code",
   "execution_count": 13,
   "id": "736d303b",
   "metadata": {},
   "outputs": [
    {
     "data": {
      "text/plain": [
       "['C:', 'Windows', 'System32', 'calc.exe']"
      ]
     },
     "execution_count": 13,
     "metadata": {},
     "output_type": "execute_result"
    }
   ],
   "source": [
    "calcFilePath.split(os.sep)"
   ]
  },
  {
   "cell_type": "code",
   "execution_count": 14,
   "id": "d5c022bc",
   "metadata": {},
   "outputs": [
    {
     "data": {
      "text/plain": [
       "45056"
      ]
     },
     "execution_count": 14,
     "metadata": {},
     "output_type": "execute_result"
    }
   ],
   "source": [
    "os.path.getsize('C:\\\\Windows\\\\System32\\\\calc.exe')"
   ]
  },
  {
   "cell_type": "code",
   "execution_count": 15,
   "id": "e8b918c1",
   "metadata": {},
   "outputs": [
    {
     "data": {
      "text/plain": [
       "['0409',\n",
       " '07409496-a423-4a3e-b620-2cfb01a9318d_HyperV-ComputeNetwork.dll',\n",
       " '0ae3b998-9a38-4b72-a4c4-06849441518d_Servicing-Stack.dll',\n",
       " '1029',\n",
       " '1033',\n",
       " '1036',\n",
       " '1040',\n",
       " '1045',\n",
       " '1046',\n",
       " '1049',\n",
       " '1055',\n",
       " '3082',\n",
       " '69fe178f-26e7-43a9-aa7d-2b616b672dde_eventlogservice.dll',\n",
       " '6bea57fb-8dfb-4177-9ae8-42e8b3529933_RuntimeDeviceInstall.dll',\n",
       " '@AdvancedKeySettingsNotification.png',\n",
       " '@AppHelpToast.png',\n",
       " '@AudioToastIcon.png',\n",
       " '@BackgroundAccessToastIcon.png',\n",
       " '@bitlockertoastimage.png',\n",
       " '@edptoastimage.png',\n",
       " '@EnrollmentToastIcon.png',\n",
       " '@language_notification_icon.png',\n",
       " '@optionalfeatures.png',\n",
       " '@StorageSenseToastIcon.png',\n",
       " '@VpnToastIcon.png',\n",
       " '@windows-hello-V4.1.gif',\n",
       " '@WindowsHelloFaceToastIcon.png',\n",
       " '@WindowsUpdateToastIcon.contrast-black.png',\n",
       " '@WindowsUpdateToastIcon.contrast-white.png',\n",
       " '@WindowsUpdateToastIcon.png',\n",
       " '@WirelessDisplayToast.png',\n",
       " '@WLOGO_48x48.png',\n",
       " 'aadauthhelper.dll',\n",
       " 'aadcloudap.dll',\n",
       " 'aadjcsp.dll',\n",
       " 'aadtb.dll',\n",
       " 'aadWamExtension.dll',\n",
       " 'AarSvc.dll',\n",
       " 'AboutSettingsHandlers.dll',\n",
       " 'AboveLockAppHost.dll',\n",
       " 'accessibilitycpl.dll',\n",
       " 'accountaccessor.dll',\n",
       " 'AccountsRt.dll',\n",
       " 'AcGenral.dll',\n",
       " 'AcLayers.dll',\n",
       " 'acledit.dll',\n",
       " 'aclui.dll',\n",
       " 'acmigration.dll',\n",
       " 'ACPBackgroundManagerPolicy.dll',\n",
       " 'acppage.dll',\n",
       " 'acproxy.dll',\n",
       " 'AcSpecfc.dll',\n",
       " 'ActionCenter.dll',\n",
       " 'ActionCenterCPL.dll',\n",
       " 'ActionQueue.dll',\n",
       " 'ActivationClient.dll',\n",
       " 'ActivationManager.dll',\n",
       " 'activeds.dll',\n",
       " 'activeds.tlb',\n",
       " 'ActiveHours.png',\n",
       " 'ActiveSyncCsp.dll',\n",
       " 'ActiveSyncProvider.dll',\n",
       " 'actxprxy.dll',\n",
       " 'AcWinRT.dll',\n",
       " 'AcXtrnal.dll',\n",
       " 'adal.dll',\n",
       " 'AdaptiveCards.dll',\n",
       " 'AddressParser.dll',\n",
       " 'adhapi.dll',\n",
       " 'adhsvc.dll',\n",
       " 'adprovider.dll',\n",
       " 'adsldp.dll',\n",
       " 'adsldpc.dll',\n",
       " 'adsmsext.dll',\n",
       " 'adsnt.dll',\n",
       " 'adtschema.dll',\n",
       " 'AdvancedEmojiDS.dll',\n",
       " 'AdvancedInstallers',\n",
       " 'advapi32.dll',\n",
       " 'advapi32res.dll',\n",
       " 'advpack.dll',\n",
       " 'aeevts.dll',\n",
       " 'aeinv.dll',\n",
       " 'aepic.dll',\n",
       " 'agentactivationruntime.dll',\n",
       " 'agentactivationruntimestarter.exe',\n",
       " 'agentactivationruntimewindows.dll',\n",
       " 'AggregatorHost.exe',\n",
       " 'aitstatic.exe',\n",
       " 'AJRouter.dll',\n",
       " 'alg.exe',\n",
       " 'altspace.dll',\n",
       " 'am-et',\n",
       " 'amcompat.tlb',\n",
       " 'AMD',\n",
       " 'amdave64.dll',\n",
       " 'amdfendrsr.exe',\n",
       " 'amdgfxinfo64.dll',\n",
       " 'amdhip64.dll',\n",
       " 'amdihk64.dll',\n",
       " 'AMDKernelEvents.man',\n",
       " 'amdlogum.exe',\n",
       " 'amdlvr64.dll',\n",
       " 'amdmiracast.dll',\n",
       " 'amdpcom64.dll',\n",
       " 'amdtee_api.dll',\n",
       " 'amdxc64.dll',\n",
       " 'amdxc64.so',\n",
       " 'amd_comgr.dll',\n",
       " 'amf-mft-mjpeg-decoder64.dll',\n",
       " 'amfrt64.dll',\n",
       " 'amsi.dll',\n",
       " 'amsiproxy.dll',\n",
       " 'amstream.dll',\n",
       " 'Analog.Shell.Broker.dll',\n",
       " 'AnalogCommonProxyStub.dll',\n",
       " 'apds.dll',\n",
       " 'APHostClient.dll',\n",
       " 'APHostRes.dll',\n",
       " 'APHostService.dll',\n",
       " 'apisampling.dll',\n",
       " 'ApiSetHost.AppExecutionAlias.dll',\n",
       " 'apisetschema.dll',\n",
       " 'APMon.dll',\n",
       " 'APMonUI.dll',\n",
       " 'AppContracts.dll',\n",
       " 'AppExtension.dll',\n",
       " 'apphelp.dll',\n",
       " 'Apphlpdm.dll',\n",
       " 'AppHostRegistrationVerifier.exe',\n",
       " 'appidapi.dll',\n",
       " 'appidcertstorecheck.exe',\n",
       " 'appidpolicyconverter.exe',\n",
       " 'appidsvc.dll',\n",
       " 'appidtel.exe',\n",
       " 'appinfo.dll',\n",
       " 'appinfoext.dll',\n",
       " 'AppInstallerPrompt.Desktop.dll',\n",
       " 'ApplicationControlCSP.dll',\n",
       " 'ApplicationFrame.dll',\n",
       " 'ApplicationFrameHost.exe',\n",
       " 'AppListBackupLauncher.dll',\n",
       " 'AppLocker',\n",
       " 'AppLockerCSP.dll',\n",
       " 'ApplyTrustOffline.exe',\n",
       " 'AppMon.dll',\n",
       " 'AppointmentActivation.dll',\n",
       " 'AppointmentApis.dll',\n",
       " 'appraiser',\n",
       " 'appraiser.dll',\n",
       " 'AppReadiness.dll',\n",
       " 'apprepapi.dll',\n",
       " 'AppResolver.dll',\n",
       " 'ApproveChildRequest.exe',\n",
       " 'appsruprov.dll',\n",
       " 'appverif.chm',\n",
       " 'appverif.exe',\n",
       " 'appverifUI.dll',\n",
       " 'appwiz.cpl',\n",
       " 'AppxAllUserStore.dll',\n",
       " 'AppXApplicabilityBlob.dll',\n",
       " 'AppxApplicabilityEngine.dll',\n",
       " 'AppXDeploymentClient.dll',\n",
       " 'AppXDeploymentExtensions.desktop.dll',\n",
       " 'AppXDeploymentExtensions.onecore.dll',\n",
       " 'AppXDeploymentServer.dll',\n",
       " 'AppxPackaging.dll',\n",
       " 'AppxProvisioning.xml',\n",
       " 'AppxSip.dll',\n",
       " 'AppxStreamingDataSourcePS.dll',\n",
       " 'AppxSysprep.dll',\n",
       " 'ar-SA',\n",
       " 'archiveint.dll',\n",
       " 'ARP.EXE',\n",
       " 'asferror.dll',\n",
       " 'aspnet_counters.dll',\n",
       " 'AssignedAccessRuntime.dll',\n",
       " 'asycfilt.dll',\n",
       " 'at.exe',\n",
       " 'AtBroker.exe',\n",
       " 'ati2erec.dll',\n",
       " 'atiacm64.dll',\n",
       " 'atiacmLocalisation.ini',\n",
       " 'atiadlxx.dll',\n",
       " 'atiapfxx.blb',\n",
       " 'aticfx64.dll',\n",
       " 'atidemgy.dll',\n",
       " 'atidxx64.dll',\n",
       " 'atieah64.exe',\n",
       " 'atieclxx.exe',\n",
       " 'atig6txx.dll',\n",
       " 'atimpc64.dll',\n",
       " 'atimuixx.dll',\n",
       " 'atisamu64.dll',\n",
       " 'atiumd6a.cap',\n",
       " 'ativvsva.dat',\n",
       " 'ativvsvl.dat',\n",
       " 'atl.dll',\n",
       " 'atl100.dll',\n",
       " 'atlthunk.dll',\n",
       " 'atmlib.dll',\n",
       " 'attrib.exe',\n",
       " 'audiodg.exe',\n",
       " 'AudioEndpointBuilder.dll',\n",
       " 'AudioEng.dll',\n",
       " 'AudioHandlers.dll',\n",
       " 'AUDIOKSE.dll',\n",
       " 'audioresourceregistrar.dll',\n",
       " 'AudioSes.dll',\n",
       " 'audiosrv.dll',\n",
       " 'AudioSrvPolicyManager.dll',\n",
       " 'auditcse.dll',\n",
       " 'auditpol.exe',\n",
       " 'auditpolcore.dll',\n",
       " 'AuthBroker.dll',\n",
       " 'AuthBrokerUI.dll',\n",
       " 'authentication.dll',\n",
       " 'AuthExt.dll',\n",
       " 'authfwcfg.dll',\n",
       " 'AuthFWGP.dll',\n",
       " 'AuthFWSnapin.dll',\n",
       " 'AuthFWWizFwk.dll',\n",
       " 'AuthHost.exe',\n",
       " 'AuthHostProxy.dll',\n",
       " 'authui.dll',\n",
       " 'authz.dll',\n",
       " 'autochk.exe',\n",
       " 'autopilot.dll',\n",
       " 'autopilotdiag.dll',\n",
       " 'autoplay.dll',\n",
       " 'autotimesvc.dll',\n",
       " 'AverageRoom.bin',\n",
       " 'avicap32.dll',\n",
       " 'avifil32.dll',\n",
       " 'avrt.dll',\n",
       " 'AxInstSv.dll',\n",
       " 'AxInstUI.exe',\n",
       " 'azman.msc',\n",
       " 'azroles.dll',\n",
       " 'azroleui.dll',\n",
       " 'AzSqlExt.dll',\n",
       " 'AzureAttest.dll',\n",
       " 'AzureAttestManager.dll',\n",
       " 'AzureAttestNormal.dll',\n",
       " 'BackgroundMediaPolicy.dll',\n",
       " 'backgroundTaskHost.exe',\n",
       " 'BackgroundTransferHost.exe',\n",
       " 'BamSettingsClient.dll',\n",
       " 'BarcodeProvisioningPlugin.dll',\n",
       " 'basecsp.dll',\n",
       " 'basesrv.dll',\n",
       " 'bash.exe',\n",
       " 'batmeter.dll',\n",
       " 'bcastdvr.proxy.dll',\n",
       " 'BcastDVRBroker.dll',\n",
       " 'BcastDVRClient.dll',\n",
       " 'BcastDVRCommon.dll',\n",
       " 'bcastdvruserservice.dll',\n",
       " 'bcd.dll',\n",
       " 'bcdboot.exe',\n",
       " 'bcdedit.exe',\n",
       " 'bcdprov.dll',\n",
       " 'bcdsrv.dll',\n",
       " 'BCP47Langs.dll',\n",
       " 'BCP47mrm.dll',\n",
       " 'bcrypt.dll',\n",
       " 'bcryptprimitives.dll',\n",
       " 'bdaplgin.ax',\n",
       " 'BdeHdCfgLib.dll',\n",
       " 'bderepair.dll',\n",
       " 'bdesvc.dll',\n",
       " 'bdeui.dll',\n",
       " 'BdeUISrv.exe',\n",
       " 'bdeunlock.exe',\n",
       " 'BFE.DLL',\n",
       " 'bg-BG',\n",
       " 'bi.dll',\n",
       " 'bidispl.dll',\n",
       " 'bindfltapi.dll',\n",
       " 'BingASDS.dll',\n",
       " 'BingFilterDS.dll',\n",
       " 'BingMaps.dll',\n",
       " 'BingOnlineServices.dll',\n",
       " 'BioCredProv.dll',\n",
       " 'BioIso.exe',\n",
       " 'bisrv.dll',\n",
       " 'BitLockerCsp.dll',\n",
       " 'BitLockerDeviceEncryption.exe',\n",
       " 'BitLockerWizardElev.exe',\n",
       " 'bitsadmin.exe',\n",
       " 'bitsigd.dll',\n",
       " 'bitsperf.dll',\n",
       " 'BitsProxy.dll',\n",
       " 'biwinrt.dll',\n",
       " 'BlbEvents.dll',\n",
       " 'blbres.dll',\n",
       " 'blb_ps.dll',\n",
       " 'BluetoothApis.dll',\n",
       " 'BluetoothDesktopHandlers.dll',\n",
       " 'BluetoothPairingSystemToastIcon.contrast-black.png',\n",
       " 'BluetoothPairingSystemToastIcon.contrast-high.png',\n",
       " 'BluetoothPairingSystemToastIcon.contrast-white.png',\n",
       " 'BluetoothPairingSystemToastIcon.png',\n",
       " 'BluetoothSystemToastIcon.contrast-white.png',\n",
       " 'BluetoothSystemToastIcon.png',\n",
       " 'bnmanager.dll',\n",
       " 'Boot',\n",
       " 'boot.sdi',\n",
       " 'bootim.exe',\n",
       " 'BootMenuUX.dll',\n",
       " 'bootsect.exe',\n",
       " 'bootstr.dll',\n",
       " 'bootsvc.dll',\n",
       " 'bootux.dll',\n",
       " 'BOOTVID.DLL',\n",
       " 'bopomofo.uce',\n",
       " 'branding.bmp',\n",
       " 'brandingRSX.bmp',\n",
       " 'brandingWS_RSX.bmp',\n",
       " 'bridgeres.dll',\n",
       " 'bridgeunattend.exe',\n",
       " 'BrokerLib.dll',\n",
       " 'browcli.dll',\n",
       " 'browserbroker.dll',\n",
       " 'browserexport.exe',\n",
       " 'browser_broker.exe',\n",
       " 'browseui.dll',\n",
       " 'BTAGService.dll',\n",
       " 'BthAvctpSvc.dll',\n",
       " 'BthAvrcp.dll',\n",
       " 'BthAvrcpAppSvc.dll',\n",
       " 'bthci.dll',\n",
       " 'BthMtpContextHandler.dll',\n",
       " 'bthpanapi.dll',\n",
       " 'BthpanContextHandler.dll',\n",
       " 'Bthprops',\n",
       " 'bthprops.cpl',\n",
       " 'BthRadioMedia.dll',\n",
       " 'bthserv.dll',\n",
       " 'BthTelemetry.dll',\n",
       " 'bthudtask.exe',\n",
       " 'btpanui.dll',\n",
       " 'Bubbles.scr',\n",
       " 'BWContextHandler.dll',\n",
       " 'ByteCodeGenerator.exe',\n",
       " 'c4d66f00-b6f0-4439-ac9b-c5ea13fe54d7_HyperV-ComputeCore.dll',\n",
       " 'ca-ES',\n",
       " 'cabapi.dll',\n",
       " 'cabinet.dll',\n",
       " 'cabview.dll',\n",
       " 'cacls.exe',\n",
       " 'calc.exe',\n",
       " 'CallButtons.dll',\n",
       " 'CallButtons.ProxyStub.dll',\n",
       " 'CallHistoryClient.dll',\n",
       " 'CameraCaptureUI.dll',\n",
       " 'CameraSettingsUIHost.exe',\n",
       " 'CapabilityAccessHandlers.dll',\n",
       " 'CapabilityAccessManager.dll',\n",
       " 'CapabilityAccessManagerClient.dll',\n",
       " 'capauthz.dll',\n",
       " 'capiprovider.dll',\n",
       " 'capisp.dll',\n",
       " 'CaptureService.dll',\n",
       " 'CastingShellExt.dll',\n",
       " 'CastLaunch.dll',\n",
       " 'CastSrv.exe',\n",
       " 'CatRoot',\n",
       " 'catroot2',\n",
       " 'catsrv.dll',\n",
       " 'catsrvps.dll',\n",
       " 'catsrvut.dll',\n",
       " 'CBDHSvc.dll',\n",
       " 'cca.dll',\n",
       " 'cdd.dll',\n",
       " 'cdosys.dll',\n",
       " 'cdp.dll',\n",
       " 'cdprt.dll',\n",
       " 'cdpsvc.dll',\n",
       " 'cdpusersvc.dll',\n",
       " 'cellulardatacapabilityhandler.dll',\n",
       " 'cemapi.dll',\n",
       " 'cero.rs',\n",
       " 'certca.dll',\n",
       " 'certcli.dll',\n",
       " 'certCredProvider.dll',\n",
       " 'certenc.dll',\n",
       " 'CertEnroll.dll',\n",
       " 'CertEnrollCtrl.exe',\n",
       " 'CertEnrollUI.dll',\n",
       " 'certlm.msc',\n",
       " 'certmgr.dll',\n",
       " 'certmgr.msc',\n",
       " 'CertPKICmdlet.dll',\n",
       " 'CertPolEng.dll',\n",
       " 'certprop.dll',\n",
       " 'certreq.exe',\n",
       " 'certutil.exe',\n",
       " 'cewmdm.dll',\n",
       " 'cfgbkend.dll',\n",
       " 'cfgmgr32.dll',\n",
       " 'CfgSPCellular.dll',\n",
       " 'CfgSPPolicy.dll',\n",
       " 'cflapi.dll',\n",
       " 'cfmifs.dll',\n",
       " 'cfmifsproxy.dll',\n",
       " 'Chakra.dll',\n",
       " 'Chakradiag.dll',\n",
       " 'Chakrathunk.dll',\n",
       " 'changepk.exe',\n",
       " 'charmap.exe',\n",
       " 'chartv.dll',\n",
       " 'ChatApis.dll',\n",
       " 'chcp.com',\n",
       " 'CheckNetIsolation.exe',\n",
       " 'chkdsk.exe',\n",
       " 'chkntfs.exe',\n",
       " 'choice.exe',\n",
       " 'ChsStrokeDS.dll',\n",
       " 'chs_singlechar_pinyin.dat',\n",
       " 'ChtBopomofoDS.dll',\n",
       " 'ChtCangjieDS.dll',\n",
       " 'ChtHkStrokeDS.dll',\n",
       " 'ChtQuickDS.dll',\n",
       " 'ChxAPDS.dll',\n",
       " 'ChxDecoder.dll',\n",
       " 'ChxHAPDS.dll',\n",
       " 'chxinputrouter.dll',\n",
       " 'chxranker.dll',\n",
       " 'CHxReadingStringIME.dll',\n",
       " 'ci.dll',\n",
       " 'cic.dll',\n",
       " 'CIDiag.exe',\n",
       " 'cimfs.dll',\n",
       " 'cipher.exe',\n",
       " 'CIRCoInst.dll',\n",
       " 'clb.dll',\n",
       " 'clbcatq.dll',\n",
       " 'cldapi.dll',\n",
       " 'cleanmgr.exe',\n",
       " 'CleanPCCSP.dll',\n",
       " 'clfsw32.dll',\n",
       " 'cliconfg.dll',\n",
       " 'cliconfg.exe',\n",
       " 'cliconfg.rll',\n",
       " 'clinfo.exe',\n",
       " 'clip.exe',\n",
       " 'ClipboardServer.dll',\n",
       " 'Clipc.dll',\n",
       " 'ClipRenew.exe',\n",
       " 'ClipSVC.dll',\n",
       " 'ClipUp.exe',\n",
       " 'clipwinrt.dll',\n",
       " 'cloudAP.dll',\n",
       " 'CloudDomainJoinAUG.dll',\n",
       " 'CloudDomainJoinDataModelServer.dll',\n",
       " 'CloudExperienceHost.dll',\n",
       " 'CloudExperienceHostBroker.dll',\n",
       " 'CloudExperienceHostBroker.exe',\n",
       " 'CloudExperienceHostCommon.dll',\n",
       " 'CloudExperienceHostRedirection.dll',\n",
       " 'CloudExperienceHostUser.dll',\n",
       " 'CloudIdWxhExtension.dll',\n",
       " 'CloudNotifications.exe',\n",
       " 'clrhost.dll',\n",
       " 'clusapi.dll',\n",
       " 'cmcfg32.dll',\n",
       " 'cmd.exe',\n",
       " 'cmdext.dll',\n",
       " 'cmdial32.dll',\n",
       " 'cmdkey.exe',\n",
       " 'cmdl32.exe',\n",
       " 'cmgrcspps.dll',\n",
       " 'cmifw.dll',\n",
       " 'cmintegrator.dll',\n",
       " 'cmlua.dll',\n",
       " 'cmmon32.exe',\n",
       " 'cmpbk32.dll',\n",
       " 'cmstp.exe',\n",
       " 'cmstplua.dll',\n",
       " 'cmutil.dll',\n",
       " 'cngcredui.dll',\n",
       " 'cngprovider.dll',\n",
       " 'cnvfat.dll',\n",
       " 'cob-au.rs',\n",
       " 'CodeIntegrity',\n",
       " 'cofire.exe',\n",
       " 'cofiredm.dll',\n",
       " 'colbact.dll',\n",
       " 'COLORCNV.DLL',\n",
       " 'colorcpl.exe',\n",
       " 'colorui.dll',\n",
       " 'Com',\n",
       " 'combase.dll',\n",
       " 'comcat.dll',\n",
       " 'comctl32.dll',\n",
       " 'comdlg32.dll',\n",
       " 'comexp.msc',\n",
       " 'coml2.dll',\n",
       " 'comp.exe',\n",
       " 'compact.exe',\n",
       " 'CompatTelRunner.exe',\n",
       " 'compmgmt.msc',\n",
       " 'CompMgmtLauncher.exe',\n",
       " 'ComposableShellProxyStub.dll',\n",
       " 'ComposerFramework.dll',\n",
       " 'CompPkgSrv.exe',\n",
       " 'CompPkgSup.dll',\n",
       " 'compstui.dll',\n",
       " 'computecore.dll',\n",
       " 'computelibeventlog.dll',\n",
       " 'computenetwork.dll',\n",
       " 'ComputerDefaults.exe',\n",
       " 'ComputerToastIcon.contrast-white.png',\n",
       " 'ComputerToastIcon.png',\n",
       " 'computestorage.dll',\n",
       " 'comrepl.dll',\n",
       " 'comres.dll',\n",
       " 'comsnap.dll',\n",
       " 'comsvcs.dll',\n",
       " 'comuid.dll',\n",
       " 'concrt140.dll',\n",
       " 'concrt140d.dll',\n",
       " 'config',\n",
       " 'configmanager2.dll',\n",
       " 'Configuration',\n",
       " 'ConfigureExpandedStorage.dll',\n",
       " 'conhost.exe',\n",
       " 'ConhostV1.dll',\n",
       " 'connect.dll',\n",
       " 'ConnectedAccountState.dll',\n",
       " 'consent.exe',\n",
       " 'ConsentExperienceCommon.dll',\n",
       " 'ConsentUX.dll',\n",
       " 'ConsentUxClient.dll',\n",
       " 'console.dll',\n",
       " 'ConsoleLogon.dll',\n",
       " 'ConstraintIndex.Search.dll',\n",
       " 'ContactActivation.dll',\n",
       " 'ContactApis.dll',\n",
       " 'ContactHarvesterDS.dll',\n",
       " 'container.dll',\n",
       " 'containerdevicemanagement.dll',\n",
       " 'ContainerSettingsProviders',\n",
       " 'ContentDeliveryManager.Utilities.dll',\n",
       " 'control.exe',\n",
       " 'convert.exe',\n",
       " 'convertvhd.exe',\n",
       " 'coreaudiopolicymanagerext.dll',\n",
       " 'coredpus.dll',\n",
       " 'coredpussvr.exe',\n",
       " 'coreglobconfig.dll',\n",
       " 'CoreMas.dll',\n",
       " 'CoreMessaging.dll',\n",
       " 'CoreMmRes.dll',\n",
       " 'CorePrivacySettingsStore.dll',\n",
       " 'CoreShell.dll',\n",
       " 'CoreShellAPI.dll',\n",
       " 'CoreShellExtFramework.dll',\n",
       " 'CoreUIComponents.dll',\n",
       " 'correngine.dll',\n",
       " 'CourtesyEngine.dll',\n",
       " 'CPFilters.dll',\n",
       " 'CredDialogBroker.dll',\n",
       " 'CredentialEnrollmentManager.exe',\n",
       " 'CredentialEnrollmentManagerForUser.dll',\n",
       " 'CredentialUIBroker.exe',\n",
       " 'CredProv2faHelper.dll',\n",
       " 'CredProvCommonCore.dll',\n",
       " 'CredProvDataModel.dll',\n",
       " 'CredProvHelper.dll',\n",
       " 'credprovhost.dll',\n",
       " 'credprovs.dll',\n",
       " 'credprovslegacy.dll',\n",
       " 'credssp.dll',\n",
       " 'credui.dll',\n",
       " 'credwiz.exe',\n",
       " 'crypt32.dll',\n",
       " 'cryptbase.dll',\n",
       " 'cryptcatsvc.dll',\n",
       " 'cryptdlg.dll',\n",
       " 'cryptdll.dll',\n",
       " 'cryptext.dll',\n",
       " 'cryptnet.dll',\n",
       " 'cryptngc.dll',\n",
       " 'CryptoWinRT.dll',\n",
       " 'cryptsp.dll',\n",
       " 'cryptsvc.dll',\n",
       " 'crypttpmeksvc.dll',\n",
       " 'cryptui.dll',\n",
       " 'cryptuiwizard.dll',\n",
       " 'cryptxml.dll',\n",
       " 'cs-CZ',\n",
       " 'cscapi.dll',\n",
       " 'cscdll.dll',\n",
       " 'cscript.exe',\n",
       " 'CspCellularSettings.dll',\n",
       " 'csplte.dll',\n",
       " 'CspProxy.dll',\n",
       " 'csrr.rs',\n",
       " 'csrsrv.dll',\n",
       " 'csrss.exe',\n",
       " 'CSystemEventsBrokerClient.dll',\n",
       " 'ctac.json',\n",
       " 'ctfmon.exe',\n",
       " 'cttune.exe',\n",
       " 'cttunesvr.exe',\n",
       " 'curl.exe',\n",
       " 'CustomInstallExec.exe',\n",
       " 'cuzzapi.dll',\n",
       " 'cxcredprov.dll',\n",
       " 'CXHProvisioningServer.dll',\n",
       " 'C_037.NLS',\n",
       " 'C_10000.NLS',\n",
       " 'C_10001.NLS',\n",
       " 'C_10002.NLS',\n",
       " 'C_10003.NLS',\n",
       " 'C_10004.NLS',\n",
       " 'C_10005.NLS',\n",
       " 'C_10006.NLS',\n",
       " 'C_10007.NLS',\n",
       " 'C_10008.NLS',\n",
       " 'C_10010.NLS',\n",
       " 'C_10017.NLS',\n",
       " 'C_10021.NLS',\n",
       " 'C_10029.NLS',\n",
       " 'C_10079.NLS',\n",
       " 'C_10081.NLS',\n",
       " 'C_10082.NLS',\n",
       " 'C_1026.NLS',\n",
       " 'C_1047.NLS',\n",
       " 'C_1140.NLS',\n",
       " 'C_1141.NLS',\n",
       " 'C_1142.NLS',\n",
       " 'C_1143.NLS',\n",
       " 'C_1144.NLS',\n",
       " 'C_1145.NLS',\n",
       " 'C_1146.NLS',\n",
       " 'C_1147.NLS',\n",
       " 'C_1148.NLS',\n",
       " 'C_1149.NLS',\n",
       " 'C_1250.NLS',\n",
       " 'C_1251.NLS',\n",
       " 'C_1252.NLS',\n",
       " 'C_1253.NLS',\n",
       " 'C_1254.NLS',\n",
       " 'C_1255.NLS',\n",
       " 'C_1256.NLS',\n",
       " 'C_1257.NLS',\n",
       " 'C_1258.NLS',\n",
       " 'C_1361.NLS',\n",
       " 'C_20000.NLS',\n",
       " 'C_20001.NLS',\n",
       " 'C_20002.NLS',\n",
       " 'C_20003.NLS',\n",
       " 'C_20004.NLS',\n",
       " 'C_20005.NLS',\n",
       " 'C_20105.NLS',\n",
       " 'C_20106.NLS',\n",
       " 'C_20107.NLS',\n",
       " 'C_20108.NLS',\n",
       " 'C_20127.NLS',\n",
       " 'C_20261.NLS',\n",
       " 'C_20269.NLS',\n",
       " 'C_20273.NLS',\n",
       " 'C_20277.NLS',\n",
       " 'C_20278.NLS',\n",
       " 'C_20280.NLS',\n",
       " 'C_20284.NLS',\n",
       " 'C_20285.NLS',\n",
       " 'C_20290.NLS',\n",
       " 'C_20297.NLS',\n",
       " 'C_20420.NLS',\n",
       " 'C_20423.NLS',\n",
       " 'C_20424.NLS',\n",
       " 'C_20833.NLS',\n",
       " 'C_20838.NLS',\n",
       " 'C_20866.NLS',\n",
       " 'C_20871.NLS',\n",
       " 'C_20880.NLS',\n",
       " 'C_20905.NLS',\n",
       " 'C_20924.NLS',\n",
       " 'C_20932.NLS',\n",
       " 'C_20936.NLS',\n",
       " 'C_20949.NLS',\n",
       " 'C_21025.NLS',\n",
       " 'C_21027.NLS',\n",
       " 'C_21866.NLS',\n",
       " 'C_28591.NLS',\n",
       " 'C_28592.NLS',\n",
       " 'C_28593.NLS',\n",
       " 'C_28594.NLS',\n",
       " 'C_28595.NLS',\n",
       " 'C_28596.NLS',\n",
       " 'C_28597.NLS',\n",
       " 'C_28598.NLS',\n",
       " 'C_28599.NLS',\n",
       " 'c_28603.nls',\n",
       " 'C_28605.NLS',\n",
       " 'C_437.NLS',\n",
       " 'C_500.NLS',\n",
       " 'C_708.NLS',\n",
       " 'C_720.NLS',\n",
       " 'C_737.NLS',\n",
       " 'C_775.NLS',\n",
       " 'C_850.NLS',\n",
       " 'C_852.NLS',\n",
       " 'C_855.NLS',\n",
       " 'C_857.NLS',\n",
       " 'C_858.NLS',\n",
       " 'C_860.NLS',\n",
       " 'C_861.NLS',\n",
       " 'C_862.NLS',\n",
       " 'C_863.NLS',\n",
       " 'C_864.NLS',\n",
       " 'C_865.NLS',\n",
       " 'C_866.NLS',\n",
       " 'C_869.NLS',\n",
       " 'C_870.NLS',\n",
       " 'C_874.NLS',\n",
       " 'C_875.NLS',\n",
       " 'C_932.NLS',\n",
       " 'C_936.NLS',\n",
       " 'C_949.NLS',\n",
       " 'C_950.NLS',\n",
       " 'C_G18030.DLL',\n",
       " 'c_GSM7.DLL',\n",
       " 'C_IS2022.DLL',\n",
       " 'C_ISCII.DLL',\n",
       " 'd2d1.dll',\n",
       " 'd2d1debug3.dll',\n",
       " 'd3d10.dll',\n",
       " 'd3d10core.dll',\n",
       " 'd3d10level9.dll',\n",
       " 'd3d10ref.dll',\n",
       " 'd3d10sdklayers.dll',\n",
       " 'd3d10warp.dll',\n",
       " 'd3d10_1.dll',\n",
       " 'd3d10_1core.dll',\n",
       " 'd3d11.dll',\n",
       " 'd3d11on12.dll',\n",
       " 'd3d11_3SDKLayers.dll',\n",
       " 'D3D12.dll',\n",
       " 'D3D12Core.dll',\n",
       " 'd3d12SDKLayers.dll',\n",
       " 'd3d8thk.dll',\n",
       " 'd3d9.dll',\n",
       " 'd3d9on12.dll',\n",
       " 'D3DCompiler_43.dll',\n",
       " 'D3DCompiler_47.dll',\n",
       " 'd3dconfig.exe',\n",
       " 'd3dcsx_43.dll',\n",
       " 'd3dref9.dll',\n",
       " 'D3DSCache.dll',\n",
       " 'd3dx10_43.dll',\n",
       " 'd3dx11_43.dll',\n",
       " 'D3DX9_43.dll',\n",
       " 'd4d78066-e6db-44b7-b5cd-2eb82dce620c_HyperV-ComputeLegacy.dll',\n",
       " 'da-DK',\n",
       " 'dab.dll',\n",
       " 'dabapi.dll',\n",
       " 'DAConn.dll',\n",
       " 'dafAspInfraProvider.dll',\n",
       " 'dafBth.dll',\n",
       " 'DafDnsSd.dll',\n",
       " 'dafDockingProvider.dll',\n",
       " 'DAFESCL.dll',\n",
       " 'DafGip.dll',\n",
       " 'DAFIoT.dll',\n",
       " 'DAFIPP.dll',\n",
       " 'DAFMCP.dll',\n",
       " 'dafpos.dll',\n",
       " 'DafPrintProvider.dll',\n",
       " 'dafupnp.dll',\n",
       " 'dafWCN.dll',\n",
       " 'dafWfdProvider.dll',\n",
       " 'DAFWiProv.dll',\n",
       " 'DAFWSD.dll',\n",
       " 'DAMediaManager.dll',\n",
       " 'DAMM.dll',\n",
       " 'DaOtpCredentialProvider.dll',\n",
       " 'das.dll',\n",
       " 'dasHost.exe',\n",
       " 'dataclen.dll',\n",
       " 'DataExchange.dll',\n",
       " 'DataExchangeHost.exe',\n",
       " 'DataStoreCacheDumpTool.exe',\n",
       " 'datusage.dll',\n",
       " 'davclnt.dll',\n",
       " 'davhlpr.dll',\n",
       " 'DavSyncProvider.dll',\n",
       " 'daxexec.dll',\n",
       " 'dbgcore.dll',\n",
       " 'dbgeng.dll',\n",
       " 'dbghelp.dll',\n",
       " 'DbgModel.dll',\n",
       " 'dbnetlib.dll',\n",
       " 'dbnmpntw.dll',\n",
       " 'dccw.exe',\n",
       " 'dciman32.dll',\n",
       " 'dcntel.dll',\n",
       " 'dcomcnfg.exe',\n",
       " 'dcomp.dll',\n",
       " 'DDACLSys.dll',\n",
       " 'DdcClaimsApi.dll',\n",
       " 'DdcComImplementationsDesktop.dll',\n",
       " 'DDDS.dll',\n",
       " 'DDFs',\n",
       " 'ddisplay.dll',\n",
       " 'ddodiag.exe',\n",
       " 'DDOIProxy.dll',\n",
       " 'DDORes.dll',\n",
       " 'ddraw.dll',\n",
       " 'ddrawex.dll',\n",
       " 'de-DE',\n",
       " 'declaredconfiguration.dll',\n",
       " 'DefaultAccountTile.png',\n",
       " 'DefaultDeviceManager.dll',\n",
       " 'DefaultHrtfs.bin',\n",
       " 'DefaultPrinterProvider.dll',\n",
       " 'DefaultQuestions.json',\n",
       " 'Defrag.exe',\n",
       " 'defragproxy.dll',\n",
       " 'defragres.dll',\n",
       " 'defragsvc.dll',\n",
       " 'delegatorprovider.dll',\n",
       " 'DeliveryOptimizationMIProv.mof',\n",
       " 'DeliveryOptimizationMIProvUninstall.mof',\n",
       " 'deploymentcsphelper.exe',\n",
       " 'deploymentcsps.dll',\n",
       " 'desk.cpl',\n",
       " 'deskadp.dll',\n",
       " 'deskmon.dll',\n",
       " 'desktopimgdownldr.exe',\n",
       " 'DesktopKeepOnToastImg.gif',\n",
       " 'DesktopShellAppStateContract.dll',\n",
       " 'DesktopShellExt.dll',\n",
       " 'DesktopSwitcherDataModel.dll',\n",
       " 'DesktopView.Internal.Broker.dll',\n",
       " 'DesktopView.Internal.Broker.ProxyStub.dll',\n",
       " 'DetailedReading-Default.xml',\n",
       " 'detoured.dll',\n",
       " 'DevDispItemProvider.dll',\n",
       " 'DeveloperOptionsSettingsHandlers.dll',\n",
       " 'devenum.dll',\n",
       " 'deviceaccess.dll',\n",
       " 'deviceassociation.dll',\n",
       " 'DeviceCensus.exe',\n",
       " 'DeviceCenter.dll',\n",
       " 'DeviceCompanionAppInstall.dll',\n",
       " 'DeviceCredential.dll',\n",
       " 'DeviceCredentialDeployment.exe',\n",
       " 'DeviceDirectoryClient.dll',\n",
       " 'DeviceDisplayStatusManager.dll',\n",
       " 'DeviceDriverRetrievalClient.dll',\n",
       " 'DeviceEject.exe',\n",
       " 'DeviceElementSource.dll',\n",
       " 'DeviceEnroller.exe',\n",
       " 'DeviceFlows.DataModel.dll',\n",
       " 'DeviceMetadataRetrievalClient.dll',\n",
       " 'devicengccredprov.dll',\n",
       " 'DevicePairing.dll',\n",
       " 'DevicePairingExperienceMEM.dll',\n",
       " 'DevicePairingFolder.dll',\n",
       " 'DevicePairingProxy.dll',\n",
       " 'DevicePairingWizard.exe',\n",
       " 'DeviceProperties.exe',\n",
       " 'DeviceReactivation.dll',\n",
       " 'deviceregistration.dll',\n",
       " 'DeviceSetupManager.dll',\n",
       " 'DeviceSetupManagerAPI.dll',\n",
       " 'DeviceSetupStatusProvider.dll',\n",
       " 'DevicesFlowBroker.dll',\n",
       " 'DeviceSoftwareInstallationClient.dll',\n",
       " 'DeviceUpdateAgent.dll',\n",
       " 'DeviceUxRes.dll',\n",
       " 'devinv.dll',\n",
       " 'devmgmt.msc',\n",
       " 'devmgr.dll',\n",
       " 'DevModeRunAsUserConfig.msc',\n",
       " 'devobj.dll',\n",
       " 'DevPropMgr.dll',\n",
       " 'DevQueryBroker.dll',\n",
       " 'devrtl.dll',\n",
       " 'dfdts.dll',\n",
       " 'DFDWiz.exe',\n",
       " 'dfrgui.exe',\n",
       " 'dfscli.dll',\n",
       " 'dfshim.dll',\n",
       " 'DfsShlEx.dll',\n",
       " 'dgtrayicon.exe',\n",
       " 'dhcpcmonitor.dll',\n",
       " 'dhcpcore.dll',\n",
       " 'dhcpcore6.dll',\n",
       " 'dhcpcsvc.dll',\n",
       " 'dhcpcsvc6.dll',\n",
       " 'dhcpsapi.dll',\n",
       " 'DHolographicDisplay.dll',\n",
       " 'DiagCpl.dll',\n",
       " 'diagnosticdataquery.dll',\n",
       " 'DiagnosticDataSettings.dll',\n",
       " 'DiagnosticInvoker.dll',\n",
       " 'DiagnosticLogCSP.dll',\n",
       " 'diagperf.dll',\n",
       " 'DiagSvc.dll',\n",
       " 'DiagSvcs',\n",
       " 'diagtrack.dll',\n",
       " 'dialclient.dll',\n",
       " 'dialer.exe',\n",
       " 'dialserver.dll',\n",
       " 'DictationManager.dll',\n",
       " 'difxapi.dll',\n",
       " 'dimsjob.dll',\n",
       " 'dimsroam.dll',\n",
       " 'dinput.dll',\n",
       " 'dinput8.dll',\n",
       " 'Direct2DDesktop.dll',\n",
       " 'directmanipulation.dll',\n",
       " 'DirectML.Debug.dll',\n",
       " 'directml.dll',\n",
       " 'directxdatabasehelper.dll',\n",
       " 'directxdatabaseupdater.exe',\n",
       " 'discan.dll',\n",
       " 'diskmgmt.msc',\n",
       " 'diskpart.exe',\n",
       " 'diskperf.exe',\n",
       " 'diskraid.exe',\n",
       " 'DiskSnapshot.conf',\n",
       " 'DiskSnapshot.exe',\n",
       " 'diskusage.exe',\n",
       " 'Dism',\n",
       " 'Dism.exe',\n",
       " 'DismApi.dll',\n",
       " 'DispBroker.Desktop.dll',\n",
       " 'DispBroker.dll',\n",
       " 'dispdiag.exe',\n",
       " 'dispex.dll',\n",
       " 'Display.dll',\n",
       " 'DisplayManager.dll',\n",
       " 'DisplaySwitch.exe',\n",
       " 'DisplaySystemToastIcon.contrast-white.png',\n",
       " 'DisplaySystemToastIcon.png',\n",
       " 'djctq.rs',\n",
       " 'djoin.exe',\n",
       " 'dllhost.exe',\n",
       " 'dllhst3g.exe',\n",
       " 'dlnashext.dll',\n",
       " 'DMAlertListener.ProxyStub.dll',\n",
       " 'DmApiSetExtImplDesktop.dll',\n",
       " 'DMAppsRes.dll',\n",
       " 'dmcertinst.exe',\n",
       " 'dmcfghost.exe',\n",
       " 'dmcfgutils.dll',\n",
       " 'dmclient.exe',\n",
       " 'dmcmnutils.dll',\n",
       " 'dmcommandlineutils.dll',\n",
       " 'dmcsps.dll',\n",
       " 'dmdlgs.dll',\n",
       " 'dmdskmgr.dll',\n",
       " 'dmdskres.dll',\n",
       " 'dmdskres2.dll',\n",
       " 'dmenrollengine.dll',\n",
       " 'dmenterprisediagnostics.dll',\n",
       " 'dmintf.dll',\n",
       " 'dmiso8601utils.dll',\n",
       " 'dmloader.dll',\n",
       " 'DmNotificationBroker.exe',\n",
       " 'dmocx.dll',\n",
       " 'dmoleaututils.dll',\n",
       " 'DmOmaCpMo.exe',\n",
       " 'dmprocessxmlfiltered.dll',\n",
       " 'dmpushproxy.dll',\n",
       " 'DMPushRouterCore.dll',\n",
       " 'DMRCDecoder.dll',\n",
       " 'DMRServer.dll',\n",
       " 'dmsynth.dll',\n",
       " 'dmusic.dll',\n",
       " 'dmutil.dll',\n",
       " 'dmvdsitf.dll',\n",
       " 'dmview.ocx',\n",
       " 'dmwappushsvc.dll',\n",
       " 'dmwmicsp.dll',\n",
       " 'dmxmlhelputils.dll',\n",
       " 'dnsapi.dll',\n",
       " 'dnscacheugc.exe',\n",
       " 'dnscmmc.dll',\n",
       " 'dnsext.dll',\n",
       " 'dnshc.dll',\n",
       " 'dnsrslvr.dll',\n",
       " 'Docking.VirtualInput.dll',\n",
       " 'DockInterface.ProxyStub.dll',\n",
       " 'docprop.dll',\n",
       " 'DocumentPerformanceEvents.dll',\n",
       " 'dolbyaposvc',\n",
       " 'DolbyAPOv251.dll',\n",
       " 'DolbyAPOv251gm.dll',\n",
       " 'DolbyAPOvlldp.dll',\n",
       " 'DolbyAPOvlldp120.dll',\n",
       " 'DolbyAPOvlldpgm.dll',\n",
       " 'DolbyDax3Apo.dll',\n",
       " ...]"
      ]
     },
     "execution_count": 15,
     "metadata": {},
     "output_type": "execute_result"
    }
   ],
   "source": [
    "os.listdir('C:\\\\Windows\\\\System32')"
   ]
  },
  {
   "cell_type": "code",
   "execution_count": 16,
   "id": "31d2628a",
   "metadata": {},
   "outputs": [
    {
     "name": "stdout",
     "output_type": "stream",
     "text": [
      "2459016471\n"
     ]
    }
   ],
   "source": [
    "totalSize = 0\n",
    "for filename in os.listdir('C:\\\\Windows\\\\System32'):\n",
    "    totalSize = totalSize + os.path.getsize(os.path.join('C:\\\\Windows\\\\System32', filename))\n",
    "print(totalSize)"
   ]
  },
  {
   "cell_type": "code",
   "execution_count": 17,
   "id": "c4d338fb",
   "metadata": {},
   "outputs": [
    {
     "data": {
      "text/plain": [
       "<generator object Path.glob at 0x00000264B3C3E340>"
      ]
     },
     "execution_count": 17,
     "metadata": {},
     "output_type": "execute_result"
    }
   ],
   "source": [
    "p = Path('C:/Users/yangshuhao/Desktop')\n",
    "p.glob('*')"
   ]
  },
  {
   "cell_type": "code",
   "execution_count": 18,
   "id": "9f7d2edd",
   "metadata": {},
   "outputs": [
    {
     "data": {
      "text/plain": [
       "[]"
      ]
     },
     "execution_count": 18,
     "metadata": {},
     "output_type": "execute_result"
    }
   ],
   "source": [
    "list(p.glob('*')) # Make a list from the generator."
   ]
  },
  {
   "cell_type": "code",
   "execution_count": 19,
   "id": "7336c3c6",
   "metadata": {},
   "outputs": [
    {
     "data": {
      "text/plain": [
       "[WindowsPath('C:/Users/yangshuhao/Documents/Arduino'),\n",
       " WindowsPath('C:/Users/yangshuhao/Documents/ArduinoData'),\n",
       " WindowsPath('C:/Users/yangshuhao/Documents/cs_learning'),\n",
       " WindowsPath('C:/Users/yangshuhao/Documents/Default.rdp'),\n",
       " WindowsPath('C:/Users/yangshuhao/Documents/desktop.ini'),\n",
       " WindowsPath('C:/Users/yangshuhao/Documents/IDM Computer Solutions'),\n",
       " WindowsPath('C:/Users/yangshuhao/Documents/IISExpress'),\n",
       " WindowsPath('C:/Users/yangshuhao/Documents/My Kindle Content'),\n",
       " WindowsPath('C:/Users/yangshuhao/Documents/My Music'),\n",
       " WindowsPath('C:/Users/yangshuhao/Documents/My Pictures'),\n",
       " WindowsPath('C:/Users/yangshuhao/Documents/My Videos'),\n",
       " WindowsPath('C:/Users/yangshuhao/Documents/My Web Sites'),\n",
       " WindowsPath('C:/Users/yangshuhao/Documents/Visual Studio 2022'),\n",
       " WindowsPath('C:/Users/yangshuhao/Documents/WeChat Files'),\n",
       " WindowsPath('C:/Users/yangshuhao/Documents/WindowsPowerShell'),\n",
       " WindowsPath('C:/Users/yangshuhao/Documents/Work'),\n",
       " WindowsPath('C:/Users/yangshuhao/Documents/个人'),\n",
       " WindowsPath('C:/Users/yangshuhao/Documents/工作'),\n",
       " WindowsPath('C:/Users/yangshuhao/Documents/自定义 Office 模板')]"
      ]
     },
     "execution_count": 19,
     "metadata": {},
     "output_type": "execute_result"
    }
   ],
   "source": [
    "p = Path('C:/Users/yangshuhao/Documents')\n",
    "p.glob('*')\n",
    "\n",
    "list(p.glob('*'))"
   ]
  },
  {
   "cell_type": "code",
   "execution_count": 20,
   "id": "eeee8ab2",
   "metadata": {},
   "outputs": [
    {
     "data": {
      "text/plain": [
       "[]"
      ]
     },
     "execution_count": 20,
     "metadata": {},
     "output_type": "execute_result"
    }
   ],
   "source": [
    "list(p.glob('*.txt')) # Lists all text files."
   ]
  },
  {
   "cell_type": "code",
   "execution_count": 21,
   "id": "3c04072a",
   "metadata": {},
   "outputs": [
    {
     "data": {
      "text/plain": [
       "[]"
      ]
     },
     "execution_count": 21,
     "metadata": {},
     "output_type": "execute_result"
    }
   ],
   "source": [
    "list(p.glob('project?.docx'))"
   ]
  },
  {
   "cell_type": "code",
   "execution_count": 22,
   "id": "3682d8f8",
   "metadata": {},
   "outputs": [
    {
     "data": {
      "text/plain": [
       "[]"
      ]
     },
     "execution_count": 22,
     "metadata": {},
     "output_type": "execute_result"
    }
   ],
   "source": [
    "list(p.glob('*.?x?'))"
   ]
  },
  {
   "cell_type": "code",
   "execution_count": 23,
   "id": "1eaa7c02",
   "metadata": {},
   "outputs": [],
   "source": [
    "p = Path('C:/Users/yangshuhao/Desktop')\n",
    "for textFilePathObj in p.glob('*.txt'):\n",
    "    print(textFilePathObj) # Prints the Path objects as a string\n",
    "    # Do something with the text file."
   ]
  },
  {
   "cell_type": "code",
   "execution_count": 1,
   "id": "3cf8bd4e",
   "metadata": {},
   "outputs": [
    {
     "data": {
      "text/plain": [
       "True"
      ]
     },
     "execution_count": 1,
     "metadata": {},
     "output_type": "execute_result"
    }
   ],
   "source": [
    "from pathlib import Path\n",
    "winDir = Path('C:/Windows')\n",
    "notExistsDir = Path('C:/This/Folder/Does/Not/Exist')\n",
    "calcFile = Path('C:/Windows/System32/calc.exe')\n",
    "winDir.exists()"
   ]
  },
  {
   "cell_type": "code",
   "execution_count": 2,
   "id": "2a4e2aed",
   "metadata": {},
   "outputs": [
    {
     "data": {
      "text/plain": [
       "True"
      ]
     },
     "execution_count": 2,
     "metadata": {},
     "output_type": "execute_result"
    }
   ],
   "source": [
    "winDir.is_dir()"
   ]
  },
  {
   "cell_type": "code",
   "execution_count": 3,
   "id": "6e4dc4bf",
   "metadata": {},
   "outputs": [
    {
     "data": {
      "text/plain": [
       "False"
      ]
     },
     "execution_count": 3,
     "metadata": {},
     "output_type": "execute_result"
    }
   ],
   "source": [
    "notExistsDir.exists()"
   ]
  },
  {
   "cell_type": "code",
   "execution_count": 4,
   "id": "ab9f08a4",
   "metadata": {},
   "outputs": [
    {
     "data": {
      "text/plain": [
       "True"
      ]
     },
     "execution_count": 4,
     "metadata": {},
     "output_type": "execute_result"
    }
   ],
   "source": [
    "calcFile.is_file()"
   ]
  },
  {
   "cell_type": "code",
   "execution_count": 5,
   "id": "d5164db7",
   "metadata": {},
   "outputs": [
    {
     "data": {
      "text/plain": [
       "False"
      ]
     },
     "execution_count": 5,
     "metadata": {},
     "output_type": "execute_result"
    }
   ],
   "source": [
    "calcFile.is_dir()"
   ]
  },
  {
   "cell_type": "code",
   "execution_count": 6,
   "id": "b837634c",
   "metadata": {},
   "outputs": [
    {
     "data": {
      "text/plain": [
       "False"
      ]
     },
     "execution_count": 6,
     "metadata": {},
     "output_type": "execute_result"
    }
   ],
   "source": [
    "dDrive = Path('D:/')\n",
    "dDrive.exists()"
   ]
  },
  {
   "cell_type": "code",
   "execution_count": 7,
   "id": "f20554c1",
   "metadata": {},
   "outputs": [
    {
     "data": {
      "text/plain": [
       "13"
      ]
     },
     "execution_count": 7,
     "metadata": {},
     "output_type": "execute_result"
    }
   ],
   "source": [
    "from pathlib import Path\n",
    "p = Path('spam.txt')\n",
    "p.write_text('Hello, world!')"
   ]
  },
  {
   "cell_type": "code",
   "execution_count": 8,
   "id": "f6215105",
   "metadata": {},
   "outputs": [
    {
     "data": {
      "text/plain": [
       "'Hello, world!'"
      ]
     },
     "execution_count": 8,
     "metadata": {},
     "output_type": "execute_result"
    }
   ],
   "source": [
    "p.read_text()"
   ]
  },
  {
   "cell_type": "code",
   "execution_count": 9,
   "id": "391a0a67",
   "metadata": {},
   "outputs": [
    {
     "data": {
      "text/plain": [
       "'Hello, world!'"
      ]
     },
     "execution_count": 9,
     "metadata": {},
     "output_type": "execute_result"
    }
   ],
   "source": [
    "helloFile = open(Path.home() / 'hello.txt')\n",
    "helloContent = helloFile.read()\n",
    "helloContent"
   ]
  },
  {
   "cell_type": "code",
   "execution_count": 10,
   "id": "9c839021",
   "metadata": {},
   "outputs": [
    {
     "data": {
      "text/plain": [
       "'Hello, world!'"
      ]
     },
     "execution_count": 10,
     "metadata": {},
     "output_type": "execute_result"
    }
   ],
   "source": [
    "helloFile = open('C:\\\\Users\\\\yangshuhao\\\\hello.txt', 'r')\n",
    "helloContent = helloFile.read()\n",
    "helloContent"
   ]
  },
  {
   "cell_type": "code",
   "execution_count": 11,
   "id": "444323da",
   "metadata": {},
   "outputs": [
    {
     "data": {
      "text/plain": [
       "[\"When, in disagrace with fortune and men's eyes,\\n\",\n",
       " 'I all alone beweep my outcast state,\\n',\n",
       " 'And trouble deaf heaven with my bootles cries,\\n',\n",
       " 'And loo upon myself and curse my fate,']"
      ]
     },
     "execution_count": 11,
     "metadata": {},
     "output_type": "execute_result"
    }
   ],
   "source": [
    "sonnetFile = open(Path.home() / 'sonnet29.txt')\n",
    "sonnetFile.readlines()"
   ]
  },
  {
   "cell_type": "code",
   "execution_count": 1,
   "id": "78e09ddd",
   "metadata": {},
   "outputs": [
    {
     "data": {
      "text/plain": [
       "14"
      ]
     },
     "execution_count": 1,
     "metadata": {},
     "output_type": "execute_result"
    }
   ],
   "source": [
    "baconFile = open('bacon.txt', 'w')\n",
    "baconFile.write('Hello, world!\\n')"
   ]
  },
  {
   "cell_type": "code",
   "execution_count": 2,
   "id": "d4ff859c",
   "metadata": {},
   "outputs": [],
   "source": [
    "baconFile.close()"
   ]
  },
  {
   "cell_type": "code",
   "execution_count": 3,
   "id": "851e0846",
   "metadata": {},
   "outputs": [],
   "source": [
    "baconFile = open('bacon.txt', 'a')"
   ]
  },
  {
   "cell_type": "code",
   "execution_count": 4,
   "id": "98e9e3e2",
   "metadata": {},
   "outputs": [
    {
     "data": {
      "text/plain": [
       "25"
      ]
     },
     "execution_count": 4,
     "metadata": {},
     "output_type": "execute_result"
    }
   ],
   "source": [
    "baconFile.write('Bacon is not a vegetable.')"
   ]
  },
  {
   "cell_type": "code",
   "execution_count": 5,
   "id": "1ff0f58d",
   "metadata": {},
   "outputs": [],
   "source": [
    "baconFile.close()"
   ]
  },
  {
   "cell_type": "code",
   "execution_count": 7,
   "id": "9bc9ea4f",
   "metadata": {},
   "outputs": [
    {
     "name": "stdout",
     "output_type": "stream",
     "text": [
      "Hello, world!\n",
      "Bacon is not a vegetable.\n"
     ]
    }
   ],
   "source": [
    "baconFile = open('bacon.txt')\n",
    "content = baconFile.read()\n",
    "baconFile.close()\n",
    "print(content)"
   ]
  },
  {
   "cell_type": "code",
   "execution_count": 8,
   "id": "01f72a7c",
   "metadata": {},
   "outputs": [],
   "source": [
    "import shelve\n",
    "shelfFile = shelve.open('mydata')\n",
    "cats = ['ZOphie', 'Pooka', 'Simon']\n",
    "shelfFile['cats'] = cats\n",
    "shelfFile.close()"
   ]
  },
  {
   "cell_type": "code",
   "execution_count": 9,
   "id": "54a9f49b",
   "metadata": {},
   "outputs": [
    {
     "data": {
      "text/plain": [
       "shelve.DbfilenameShelf"
      ]
     },
     "execution_count": 9,
     "metadata": {},
     "output_type": "execute_result"
    }
   ],
   "source": [
    "shelfFile = shelve.open('mydata')\n",
    "type(shelfFile)"
   ]
  },
  {
   "cell_type": "code",
   "execution_count": 10,
   "id": "e373f06c",
   "metadata": {},
   "outputs": [
    {
     "data": {
      "text/plain": [
       "['ZOphie', 'Pooka', 'Simon']"
      ]
     },
     "execution_count": 10,
     "metadata": {},
     "output_type": "execute_result"
    }
   ],
   "source": [
    "shelfFile['cats']"
   ]
  },
  {
   "cell_type": "code",
   "execution_count": 11,
   "id": "e0bdee27",
   "metadata": {},
   "outputs": [],
   "source": [
    "shelfFile.close()"
   ]
  },
  {
   "cell_type": "code",
   "execution_count": 12,
   "id": "c5b67051",
   "metadata": {},
   "outputs": [
    {
     "data": {
      "text/plain": [
       "['cats']"
      ]
     },
     "execution_count": 12,
     "metadata": {},
     "output_type": "execute_result"
    }
   ],
   "source": [
    "shelfFile = shelve.open('mydata')\n",
    "list(shelfFile.keys())"
   ]
  },
  {
   "cell_type": "code",
   "execution_count": 13,
   "id": "68f71251",
   "metadata": {},
   "outputs": [
    {
     "data": {
      "text/plain": [
       "[['ZOphie', 'Pooka', 'Simon']]"
      ]
     },
     "execution_count": 13,
     "metadata": {},
     "output_type": "execute_result"
    }
   ],
   "source": [
    "list(shelfFile.values())"
   ]
  },
  {
   "cell_type": "code",
   "execution_count": 14,
   "id": "1007f89d",
   "metadata": {},
   "outputs": [],
   "source": [
    "shelfFile.close()"
   ]
  },
  {
   "cell_type": "code",
   "execution_count": 1,
   "id": "a2d23fc6",
   "metadata": {},
   "outputs": [
    {
     "data": {
      "text/plain": [
       "\"[{'desc': 'chubby', 'name': 'Zophie'}, {'desc': 'fluffy', 'name': 'Pooka'}]\""
      ]
     },
     "execution_count": 1,
     "metadata": {},
     "output_type": "execute_result"
    }
   ],
   "source": [
    "import pprint\n",
    "cats = [{'name': 'Zophie', 'desc': 'chubby'}, {'name': 'Pooka', 'desc': 'fluffy'}]\n",
    "pprint.pformat(cats)"
   ]
  },
  {
   "cell_type": "code",
   "execution_count": 2,
   "id": "14819151",
   "metadata": {},
   "outputs": [
    {
     "data": {
      "text/plain": [
       "83"
      ]
     },
     "execution_count": 2,
     "metadata": {},
     "output_type": "execute_result"
    }
   ],
   "source": [
    "fileObj = open('myCats.py', 'w')\n",
    "fileObj.write('cats = ' + pprint.pformat(cats) + '\\n')"
   ]
  },
  {
   "cell_type": "code",
   "execution_count": 3,
   "id": "13631370",
   "metadata": {},
   "outputs": [],
   "source": [
    "fileObj.close()"
   ]
  },
  {
   "cell_type": "code",
   "execution_count": 4,
   "id": "c7a7b741",
   "metadata": {},
   "outputs": [
    {
     "data": {
      "text/plain": [
       "[{'desc': 'chubby', 'name': 'Zophie'}, {'desc': 'fluffy', 'name': 'Pooka'}]"
      ]
     },
     "execution_count": 4,
     "metadata": {},
     "output_type": "execute_result"
    }
   ],
   "source": [
    "import myCats\n",
    "myCats.cats"
   ]
  },
  {
   "cell_type": "code",
   "execution_count": 5,
   "id": "4b68d741",
   "metadata": {},
   "outputs": [
    {
     "data": {
      "text/plain": [
       "{'desc': 'chubby', 'name': 'Zophie'}"
      ]
     },
     "execution_count": 5,
     "metadata": {},
     "output_type": "execute_result"
    }
   ],
   "source": [
    "myCats.cats[0]"
   ]
  },
  {
   "cell_type": "code",
   "execution_count": 6,
   "id": "25d8e27e",
   "metadata": {},
   "outputs": [
    {
     "data": {
      "text/plain": [
       "'Zophie'"
      ]
     },
     "execution_count": 6,
     "metadata": {},
     "output_type": "execute_result"
    }
   ],
   "source": [
    "myCats.cats[0]['name']"
   ]
  },
  {
   "cell_type": "code",
   "execution_count": null,
   "id": "10c382d3",
   "metadata": {},
   "outputs": [],
   "source": []
  }
 ],
 "metadata": {
  "interpreter": {
   "hash": "3fca44e8a8d966755b74aae34a70af2c9ee2ebdbfb3aa82eef447cc2a8552b1d"
  },
  "kernelspec": {
   "display_name": "Python 3.10.0 64-bit",
   "language": "python",
   "name": "python3"
  },
  "language_info": {
   "codemirror_mode": {
    "name": "ipython",
    "version": 3
   },
   "file_extension": ".py",
   "mimetype": "text/x-python",
   "name": "python",
   "nbconvert_exporter": "python",
   "pygments_lexer": "ipython3",
   "version": "3.10.0"
  }
 },
 "nbformat": 4,
 "nbformat_minor": 5
}
