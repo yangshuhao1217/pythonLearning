{
 "cells": [
  {
   "cell_type": "code",
   "execution_count": 1,
   "metadata": {},
   "outputs": [
    {
     "data": {
      "text/plain": [
       "WindowsPath('spam/bacon/eggs')"
      ]
     },
     "execution_count": 1,
     "metadata": {},
     "output_type": "execute_result"
    }
   ],
   "source": [
    "from pathlib import Path\n",
    "Path('spam', 'bacon', 'eggs')"
   ]
  },
  {
   "cell_type": "code",
   "execution_count": 2,
   "id": "8d41f43b",
   "metadata": {},
   "outputs": [
    {
     "data": {
      "text/plain": [
       "'spam\\\\bacon\\\\eggs'"
      ]
     },
     "execution_count": 2,
     "metadata": {},
     "output_type": "execute_result"
    }
   ],
   "source": [
    "str(Path('spam', 'bacon', 'eggs'))"
   ]
  },
  {
   "cell_type": "code",
   "execution_count": 3,
   "id": "fd1714f8",
   "metadata": {},
   "outputs": [
    {
     "name": "stdout",
     "output_type": "stream",
     "text": [
      "C:\\Users\\Al\\accounts.txt\n",
      "C:\\Users\\Al\\details.csv\n",
      "C:\\Users\\Al\\invite.docx\n"
     ]
    }
   ],
   "source": [
    "from pathlib import Path\n",
    "myFiles = ['accounts.txt', 'details.csv', 'invite.docx']\n",
    "for filename in myFiles:\n",
    "    print(Path(r'C:\\Users\\Al', filename))"
   ]
  },
  {
   "cell_type": "code",
   "execution_count": 4,
   "id": "b0dfdaad",
   "metadata": {},
   "outputs": [
    {
     "data": {
      "text/plain": [
       "WindowsPath('spam/bacon/eggs')"
      ]
     },
     "execution_count": 4,
     "metadata": {},
     "output_type": "execute_result"
    }
   ],
   "source": [
    "from pathlib import Path\n",
    "Path('spam') / 'bacon' / 'eggs'"
   ]
  },
  {
   "cell_type": "code",
   "execution_count": 5,
   "id": "04c2fbd2",
   "metadata": {},
   "outputs": [
    {
     "data": {
      "text/plain": [
       "WindowsPath('spam/bacon/eggs')"
      ]
     },
     "execution_count": 5,
     "metadata": {},
     "output_type": "execute_result"
    }
   ],
   "source": [
    "Path('spam') / Path('bacon/eggs')"
   ]
  },
  {
   "cell_type": "code",
   "execution_count": 6,
   "id": "6548c448",
   "metadata": {},
   "outputs": [
    {
     "data": {
      "text/plain": [
       "WindowsPath('spam/bacon/eggs')"
      ]
     },
     "execution_count": 6,
     "metadata": {},
     "output_type": "execute_result"
    }
   ],
   "source": [
    "Path('spam') / Path('bacon', 'eggs')"
   ]
  },
  {
   "cell_type": "code",
   "execution_count": 7,
   "id": "609d346b",
   "metadata": {},
   "outputs": [
    {
     "data": {
      "text/plain": [
       "'C:\\\\Users\\\\Al\\\\spam'"
      ]
     },
     "execution_count": 7,
     "metadata": {},
     "output_type": "execute_result"
    }
   ],
   "source": [
    "homeFolder = r'C:\\Users\\Al'\n",
    "subFolder = 'spam'\n",
    "homeFolder + '\\\\' + subFolder"
   ]
  },
  {
   "cell_type": "code",
   "execution_count": 8,
   "id": "6b99e725",
   "metadata": {},
   "outputs": [
    {
     "data": {
      "text/plain": [
       "'C:\\\\Users\\\\Al\\\\spam'"
      ]
     },
     "execution_count": 8,
     "metadata": {},
     "output_type": "execute_result"
    }
   ],
   "source": [
    "'\\\\'.join([homeFolder, subFolder])"
   ]
  },
  {
   "cell_type": "code",
   "execution_count": 9,
   "id": "fb5d3c7f",
   "metadata": {},
   "outputs": [
    {
     "data": {
      "text/plain": [
       "WindowsPath('C:/Users/Al/spam')"
      ]
     },
     "execution_count": 9,
     "metadata": {},
     "output_type": "execute_result"
    }
   ],
   "source": [
    "homeFolder = Path('C:/Users/Al')\n",
    "subFolder = Path('spam')\n",
    "homeFolder / subFolder"
   ]
  },
  {
   "cell_type": "code",
   "execution_count": 10,
   "id": "b32e2a46",
   "metadata": {},
   "outputs": [
    {
     "data": {
      "text/plain": [
       "'C:\\\\Users\\\\Al\\\\spam'"
      ]
     },
     "execution_count": 10,
     "metadata": {},
     "output_type": "execute_result"
    }
   ],
   "source": [
    "str(homeFolder / subFolder)"
   ]
  },
  {
   "cell_type": "code",
   "execution_count": 11,
   "id": "d82c9291",
   "metadata": {},
   "outputs": [
    {
     "ename": "TypeError",
     "evalue": "unsupported operand type(s) for /: 'str' and 'str'",
     "output_type": "error",
     "traceback": [
      "\u001b[1;31m---------------------------------------------------------------------------\u001b[0m",
      "\u001b[1;31mTypeError\u001b[0m                                 Traceback (most recent call last)",
      "\u001b[1;32mc:\\Users\\YangShuhao\\Coding\\python_work\\pythonLearning\\boringStuff\\chapter09\\chapter09.ipynb Cell 11'\u001b[0m in \u001b[0;36m<cell line: 1>\u001b[1;34m()\u001b[0m\n\u001b[1;32m----> <a href='vscode-notebook-cell:/c%3A/Users/YangShuhao/Coding/python_work/pythonLearning/boringStuff/chapter09/chapter09.ipynb#ch0000010?line=0'>1</a>\u001b[0m \u001b[39m'\u001b[39m\u001b[39mspam\u001b[39m\u001b[39m'\u001b[39m \u001b[39m/\u001b[39m \u001b[39m'\u001b[39m\u001b[39mbacon\u001b[39m\u001b[39m'\u001b[39m \u001b[39m/\u001b[39m \u001b[39m'\u001b[39m\u001b[39meggs\u001b[39m\u001b[39m'\u001b[39m\n",
      "\u001b[1;31mTypeError\u001b[0m: unsupported operand type(s) for /: 'str' and 'str'"
     ]
    }
   ],
   "source": [
    "'spam' / 'bacon' / 'eggs'"
   ]
  },
  {
   "cell_type": "code",
   "execution_count": 12,
   "id": "aba6e9c0",
   "metadata": {},
   "outputs": [
    {
     "data": {
      "text/plain": [
       "WindowsPath('c:/Users/YangShuhao/Coding/python_work/pythonLearning/boringStuff/chapter09')"
      ]
     },
     "execution_count": 12,
     "metadata": {},
     "output_type": "execute_result"
    }
   ],
   "source": [
    "from pathlib import Path\n",
    "import os\n",
    "Path.cwd()"
   ]
  },
  {
   "cell_type": "code",
   "execution_count": 13,
   "id": "e6eaed8a",
   "metadata": {},
   "outputs": [],
   "source": [
    "os.chdir('C:\\\\Windows\\\\System32')"
   ]
  },
  {
   "cell_type": "code",
   "execution_count": 14,
   "id": "8b40ced9",
   "metadata": {},
   "outputs": [
    {
     "data": {
      "text/plain": [
       "WindowsPath('C:/Windows/System32')"
      ]
     },
     "execution_count": 14,
     "metadata": {},
     "output_type": "execute_result"
    }
   ],
   "source": [
    "Path.cwd()"
   ]
  },
  {
   "cell_type": "code",
   "execution_count": 15,
   "id": "2d0e0204",
   "metadata": {},
   "outputs": [
    {
     "ename": "FileNotFoundError",
     "evalue": "[WinError 2] 系统找不到指定的文件。: 'C:/ThisFolderDoesNotExit'",
     "output_type": "error",
     "traceback": [
      "\u001b[1;31m---------------------------------------------------------------------------\u001b[0m",
      "\u001b[1;31mFileNotFoundError\u001b[0m                         Traceback (most recent call last)",
      "\u001b[1;32mc:\\Users\\YangShuhao\\Coding\\python_work\\pythonLearning\\boringStuff\\chapter09\\chapter09.ipynb Cell 15'\u001b[0m in \u001b[0;36m<cell line: 1>\u001b[1;34m()\u001b[0m\n\u001b[1;32m----> <a href='vscode-notebook-cell:/c%3A/Users/YangShuhao/Coding/python_work/pythonLearning/boringStuff/chapter09/chapter09.ipynb#ch0000014?line=0'>1</a>\u001b[0m os\u001b[39m.\u001b[39mchdir(\u001b[39m'\u001b[39m\u001b[39mC:/ThisFolderDoesNotExit\u001b[39m\u001b[39m'\u001b[39m)\n",
      "\u001b[1;31mFileNotFoundError\u001b[0m: [WinError 2] 系统找不到指定的文件。: 'C:/ThisFolderDoesNotExit'"
     ]
    }
   ],
   "source": [
    "os.chdir('C:/ThisFolderDoesNotExit')"
   ]
  },
  {
   "cell_type": "code",
   "execution_count": 16,
   "id": "d777cb46",
   "metadata": {},
   "outputs": [
    {
     "data": {
      "text/plain": [
       "WindowsPath('C:/Windows/System32')"
      ]
     },
     "execution_count": 16,
     "metadata": {},
     "output_type": "execute_result"
    }
   ],
   "source": [
    "Path.cwd()"
   ]
  },
  {
   "cell_type": "code",
   "execution_count": 17,
   "id": "59c68a26",
   "metadata": {},
   "outputs": [
    {
     "data": {
      "text/plain": [
       "WindowsPath('C:/Users/YangShuhao')"
      ]
     },
     "execution_count": 17,
     "metadata": {},
     "output_type": "execute_result"
    }
   ],
   "source": [
    "Path.home()"
   ]
  },
  {
   "cell_type": "code",
   "execution_count": 18,
   "id": "59f98a43",
   "metadata": {},
   "outputs": [],
   "source": [
    "import os\n",
    "os.makedirs('C:\\\\delicious\\\\walnut\\\\waffles')"
   ]
  },
  {
   "cell_type": "code",
   "execution_count": 19,
   "id": "007de78c",
   "metadata": {},
   "outputs": [],
   "source": [
    "from pathlib import Path\n",
    "Path(r'C:\\Users\\\\yangshuhao\\spam').mkdir()"
   ]
  },
  {
   "cell_type": "code",
   "execution_count": null,
   "id": "06116996",
   "metadata": {},
   "outputs": [],
   "source": []
  }
 ],
 "metadata": {
  "interpreter": {
   "hash": "3fca44e8a8d966755b74aae34a70af2c9ee2ebdbfb3aa82eef447cc2a8552b1d"
  },
  "kernelspec": {
   "display_name": "Python 3.10.0 64-bit",
   "language": "python",
   "name": "python3"
  },
  "language_info": {
   "codemirror_mode": {
    "name": "ipython",
    "version": 3
   },
   "file_extension": ".py",
   "mimetype": "text/x-python",
   "name": "python",
   "nbconvert_exporter": "python",
   "pygments_lexer": "ipython3",
   "version": "3.10.0"
  }
 },
 "nbformat": 4,
 "nbformat_minor": 5
}
