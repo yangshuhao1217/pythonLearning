{
 "cells": [
  {
   "cell_type": "code",
   "execution_count": 3,
   "id": "706255f1-7fb2-412a-9b56-a664340af3e4",
   "metadata": {},
   "outputs": [
    {
     "data": {
      "text/plain": [
       "openpyxl.workbook.workbook.Workbook"
      ]
     },
     "execution_count": 3,
     "metadata": {},
     "output_type": "execute_result"
    }
   ],
   "source": [
    "import openpyxl\n",
    "wb = openpyxl.load_workbook('example.xlsx')\n",
    "type(wb)"
   ]
  },
  {
   "cell_type": "code",
   "execution_count": 4,
   "id": "3872c831",
   "metadata": {},
   "outputs": [
    {
     "data": {
      "text/plain": [
       "['Sheet1', 'Sheet2', 'Sheet3']"
      ]
     },
     "execution_count": 4,
     "metadata": {},
     "output_type": "execute_result"
    }
   ],
   "source": [
    "import openpyxl\n",
    "wb = openpyxl.load_workbook('example.xlsx')\n",
    "wb.sheetnames # The workbook's sheets' names."
   ]
  },
  {
   "cell_type": "code",
   "execution_count": 5,
   "id": "9a1c0d96",
   "metadata": {},
   "outputs": [
    {
     "data": {
      "text/plain": [
       "<Worksheet \"Sheet3\">"
      ]
     },
     "execution_count": 5,
     "metadata": {},
     "output_type": "execute_result"
    }
   ],
   "source": [
    "sheet = wb['Sheet3'] # Get from the workbook.\n",
    "sheet"
   ]
  },
  {
   "cell_type": "code",
   "execution_count": 6,
   "id": "12093600",
   "metadata": {},
   "outputs": [
    {
     "data": {
      "text/plain": [
       "openpyxl.worksheet.worksheet.Worksheet"
      ]
     },
     "execution_count": 6,
     "metadata": {},
     "output_type": "execute_result"
    }
   ],
   "source": [
    "type(sheet)"
   ]
  },
  {
   "cell_type": "code",
   "execution_count": 7,
   "id": "61823626",
   "metadata": {},
   "outputs": [
    {
     "data": {
      "text/plain": [
       "'Sheet3'"
      ]
     },
     "execution_count": 7,
     "metadata": {},
     "output_type": "execute_result"
    }
   ],
   "source": [
    "sheet.title # Get the sheet's title as a string."
   ]
  },
  {
   "cell_type": "code",
   "execution_count": 8,
   "id": "948133b8",
   "metadata": {},
   "outputs": [],
   "source": [
    "anotherSheet = wb.active # Get the active sheet."
   ]
  },
  {
   "cell_type": "code",
   "execution_count": 9,
   "id": "2a9a7e01",
   "metadata": {},
   "outputs": [
    {
     "data": {
      "text/plain": [
       "<Worksheet \"Sheet1\">"
      ]
     },
     "execution_count": 9,
     "metadata": {},
     "output_type": "execute_result"
    }
   ],
   "source": [
    "anotherSheet"
   ]
  },
  {
   "cell_type": "code",
   "execution_count": 11,
   "id": "3e5ca1f9",
   "metadata": {},
   "outputs": [
    {
     "data": {
      "text/plain": [
       "<Cell 'Sheet1'.A1>"
      ]
     },
     "execution_count": 11,
     "metadata": {},
     "output_type": "execute_result"
    }
   ],
   "source": [
    "import openpyxl\n",
    "wb = openpyxl.load_workbook('example.xlsx')\n",
    "sheet = wb['Sheet1']    # Get a sheet from the woirkbook.\n",
    "sheet['A1']     # Get a cell from the sheet."
   ]
  },
  {
   "cell_type": "code",
   "execution_count": 12,
   "id": "f4954132",
   "metadata": {},
   "outputs": [
    {
     "data": {
      "text/plain": [
       "datetime.datetime(2015, 4, 5, 13, 34, 2)"
      ]
     },
     "execution_count": 12,
     "metadata": {},
     "output_type": "execute_result"
    }
   ],
   "source": [
    "sheet['A1'].value # Get the value from the cell."
   ]
  },
  {
   "cell_type": "code",
   "execution_count": 13,
   "id": "c29b9d2c",
   "metadata": {},
   "outputs": [
    {
     "data": {
      "text/plain": [
       "'Apples'"
      ]
     },
     "execution_count": 13,
     "metadata": {},
     "output_type": "execute_result"
    }
   ],
   "source": [
    "c = sheet['B1'] # Get another cell from the sheet.\n",
    "c.value"
   ]
  },
  {
   "cell_type": "code",
   "execution_count": 14,
   "id": "6d24cca2",
   "metadata": {},
   "outputs": [
    {
     "data": {
      "text/plain": [
       "'Row 1, Column 2 is Apples'"
      ]
     },
     "execution_count": 14,
     "metadata": {},
     "output_type": "execute_result"
    }
   ],
   "source": [
    "# Get the row, clumn, and value from the cell.\n",
    "'Row %s, Column %s is %s' % (c.row, c.column, c.value)"
   ]
  },
  {
   "cell_type": "code",
   "execution_count": 15,
   "id": "0e5fd5c9",
   "metadata": {},
   "outputs": [
    {
     "data": {
      "text/plain": [
       "'Cell B1 is Apples'"
      ]
     },
     "execution_count": 15,
     "metadata": {},
     "output_type": "execute_result"
    }
   ],
   "source": [
    "'Cell %s is %s' % (c.coordinate, c.value)"
   ]
  },
  {
   "cell_type": "code",
   "execution_count": 16,
   "id": "5e9a5893",
   "metadata": {},
   "outputs": [
    {
     "data": {
      "text/plain": [
       "73"
      ]
     },
     "execution_count": 16,
     "metadata": {},
     "output_type": "execute_result"
    }
   ],
   "source": [
    "sheet['C1'].value"
   ]
  },
  {
   "cell_type": "code",
   "execution_count": 17,
   "id": "a6210b3d",
   "metadata": {},
   "outputs": [
    {
     "data": {
      "text/plain": [
       "<Cell 'Sheet1'.B1>"
      ]
     },
     "execution_count": 17,
     "metadata": {},
     "output_type": "execute_result"
    }
   ],
   "source": [
    "sheet.cell(row=1, column=2)"
   ]
  },
  {
   "cell_type": "code",
   "execution_count": 18,
   "id": "58f8fbe8",
   "metadata": {},
   "outputs": [
    {
     "data": {
      "text/plain": [
       "'Apples'"
      ]
     },
     "execution_count": 18,
     "metadata": {},
     "output_type": "execute_result"
    }
   ],
   "source": [
    "sheet.cell(row=1, column=2).value"
   ]
  },
  {
   "cell_type": "code",
   "execution_count": 20,
   "id": "06bb89a3",
   "metadata": {},
   "outputs": [
    {
     "name": "stdout",
     "output_type": "stream",
     "text": [
      "1 Apples\n",
      "3 Pears\n",
      "5 Apples\n",
      "7 Strawberries\n"
     ]
    }
   ],
   "source": [
    "for i in range(1, 8, 2):    # Go through every other row:\n",
    "    print(i, sheet.cell(row=i, column=2).value)"
   ]
  },
  {
   "cell_type": "code",
   "execution_count": 21,
   "id": "00c69933",
   "metadata": {},
   "outputs": [
    {
     "data": {
      "text/plain": [
       "7"
      ]
     },
     "execution_count": 21,
     "metadata": {},
     "output_type": "execute_result"
    }
   ],
   "source": [
    "import openpyxl\n",
    "wb = openpyxl.load_workbook('example.xlsx')\n",
    "sheet = wb['Sheet1']\n",
    "sheet.max_row # Get the highest row number."
   ]
  },
  {
   "cell_type": "code",
   "execution_count": 22,
   "id": "fba158b1",
   "metadata": {},
   "outputs": [
    {
     "data": {
      "text/plain": [
       "3"
      ]
     },
     "execution_count": 22,
     "metadata": {},
     "output_type": "execute_result"
    }
   ],
   "source": [
    "sheet.max_column # Get the highest column number."
   ]
  },
  {
   "cell_type": "code",
   "execution_count": 23,
   "id": "b3a8eca8",
   "metadata": {},
   "outputs": [
    {
     "data": {
      "text/plain": [
       "'A'"
      ]
     },
     "execution_count": 23,
     "metadata": {},
     "output_type": "execute_result"
    }
   ],
   "source": [
    "import openpyxl\n",
    "from openpyxl.utils import get_column_letter, column_index_from_string\n",
    "get_column_letter(1) # Translate column 1 to a letter."
   ]
  },
  {
   "cell_type": "code",
   "execution_count": 24,
   "id": "b11440e8",
   "metadata": {},
   "outputs": [
    {
     "data": {
      "text/plain": [
       "'B'"
      ]
     },
     "execution_count": 24,
     "metadata": {},
     "output_type": "execute_result"
    }
   ],
   "source": [
    "get_column_letter(2)"
   ]
  },
  {
   "cell_type": "code",
   "execution_count": 25,
   "id": "585cab74",
   "metadata": {},
   "outputs": [
    {
     "data": {
      "text/plain": [
       "'AA'"
      ]
     },
     "execution_count": 25,
     "metadata": {},
     "output_type": "execute_result"
    }
   ],
   "source": [
    "get_column_letter(27)"
   ]
  },
  {
   "cell_type": "code",
   "execution_count": 26,
   "id": "6ec143c0",
   "metadata": {},
   "outputs": [
    {
     "data": {
      "text/plain": [
       "'AHP'"
      ]
     },
     "execution_count": 26,
     "metadata": {},
     "output_type": "execute_result"
    }
   ],
   "source": [
    "get_column_letter(900)"
   ]
  },
  {
   "cell_type": "code",
   "execution_count": 27,
   "id": "2b712aad",
   "metadata": {},
   "outputs": [
    {
     "data": {
      "text/plain": [
       "'C'"
      ]
     },
     "execution_count": 27,
     "metadata": {},
     "output_type": "execute_result"
    }
   ],
   "source": [
    "wb = openpyxl.load_workbook('example.xlsx')\n",
    "sheet = wb['Sheet1']\n",
    "get_column_letter(sheet.max_column)"
   ]
  },
  {
   "cell_type": "code",
   "execution_count": 28,
   "id": "01443b2c",
   "metadata": {},
   "outputs": [
    {
     "data": {
      "text/plain": [
       "1"
      ]
     },
     "execution_count": 28,
     "metadata": {},
     "output_type": "execute_result"
    }
   ],
   "source": [
    "column_index_from_string('A') # Get A's number"
   ]
  },
  {
   "cell_type": "code",
   "execution_count": 29,
   "id": "a9dc12a2",
   "metadata": {},
   "outputs": [
    {
     "data": {
      "text/plain": [
       "27"
      ]
     },
     "execution_count": 29,
     "metadata": {},
     "output_type": "execute_result"
    }
   ],
   "source": [
    "column_index_from_string('AA')"
   ]
  },
  {
   "cell_type": "code",
   "execution_count": 30,
   "id": "ef1aca25",
   "metadata": {},
   "outputs": [
    {
     "data": {
      "text/plain": [
       "((<Cell 'Sheet1'.A1>, <Cell 'Sheet1'.B1>, <Cell 'Sheet1'.C1>),\n",
       " (<Cell 'Sheet1'.A2>, <Cell 'Sheet1'.B2>, <Cell 'Sheet1'.C2>),\n",
       " (<Cell 'Sheet1'.A3>, <Cell 'Sheet1'.B3>, <Cell 'Sheet1'.C3>))"
      ]
     },
     "execution_count": 30,
     "metadata": {},
     "output_type": "execute_result"
    }
   ],
   "source": [
    "import openpyxl\n",
    "wb = openpyxl.load_workbook('example.xlsx')\n",
    "sheet = wb['Sheet1']\n",
    "tuple(sheet['A1': 'C3']) # Get all cells from A1 to C3."
   ]
  },
  {
   "cell_type": "code",
   "execution_count": 31,
   "id": "395b1c57",
   "metadata": {},
   "outputs": [
    {
     "name": "stdout",
     "output_type": "stream",
     "text": [
      "A1 2015-04-05 13:34:02\n",
      "B1 Apples\n",
      "C1 73\n",
      "--- END OF ROW ---\n",
      "A2 2015-04-05 03:41:23\n",
      "B2 Cherries\n",
      "C2 85\n",
      "--- END OF ROW ---\n",
      "A3 2015-04-06 12:46:51\n",
      "B3 Pears\n",
      "C3 14\n",
      "--- END OF ROW ---\n"
     ]
    }
   ],
   "source": [
    "for rowOfCellObjects in sheet['A1': 'C3']:\n",
    "    for cellObj in rowOfCellObjects:\n",
    "        print(cellObj.coordinate, cellObj.value)\n",
    "    print('--- END OF ROW ---')"
   ]
  },
  {
   "cell_type": "code",
   "execution_count": 32,
   "id": "e538ab32",
   "metadata": {},
   "outputs": [
    {
     "data": {
      "text/plain": [
       "(<Cell 'Sheet1'.B1>,\n",
       " <Cell 'Sheet1'.B2>,\n",
       " <Cell 'Sheet1'.B3>,\n",
       " <Cell 'Sheet1'.B4>,\n",
       " <Cell 'Sheet1'.B5>,\n",
       " <Cell 'Sheet1'.B6>,\n",
       " <Cell 'Sheet1'.B7>)"
      ]
     },
     "execution_count": 32,
     "metadata": {},
     "output_type": "execute_result"
    }
   ],
   "source": [
    "import openpyxl\n",
    "wb = openpyxl.load_workbook('example.xlsx')\n",
    "sheet = wb.active\n",
    "list(sheet.columns)[1] # Get second column's cells."
   ]
  },
  {
   "cell_type": "code",
   "execution_count": 33,
   "id": "5037f9c4",
   "metadata": {},
   "outputs": [
    {
     "name": "stdout",
     "output_type": "stream",
     "text": [
      "Apples\n",
      "Cherries\n",
      "Pears\n",
      "Oranges\n",
      "Apples\n",
      "Bananas\n",
      "Strawberries\n"
     ]
    }
   ],
   "source": [
    "for cellObj in list(sheet.columns)[1]:\n",
    "    print(cellObj.value)"
   ]
  },
  {
   "cell_type": "code",
   "execution_count": 1,
   "id": "07bd5b7b",
   "metadata": {},
   "outputs": [],
   "source": [
    "import openpyxl\n",
    "from openpyxl.styles import Font\n",
    "wb = openpyxl.Workbook()\n",
    "sheet = wb['Sheet']\n",
    "italic24Font = Font(size=24, italic=True) # Create a font.\n",
    "sheet['A1'].font = italic24Font # Apply the font to A1.\n",
    "sheet['A1'] = 'Hello, world!' \n",
    "wb.save('style.xlsx')"
   ]
  },
  {
   "cell_type": "code",
   "execution_count": 2,
   "id": "a75f37cd",
   "metadata": {},
   "outputs": [],
   "source": [
    "import openpyxl \n",
    "from openpyxl.styles import Font \n",
    "wb = openpyxl.Workbook()\n",
    "sheet = wb['Sheet'] \n",
    "\n",
    "fontObj1 = Font(name='Times New Roman', bold=True)\n",
    "sheet['A1'].font = fontObj1\n",
    "sheet['A1'] = 'Bold Times New Roman'\n",
    "\n",
    "fontObj2 = Font(size=24, italic=True)\n",
    "sheet['B3'].font = fontObj2 \n",
    "sheet['B3'] = '24 pt Italic' \n",
    "\n",
    "wb.save('styles.xlsx')\n"
   ]
  },
  {
   "cell_type": "code",
   "execution_count": 4,
   "id": "0f25c2f4",
   "metadata": {},
   "outputs": [],
   "source": [
    "import openpyxl \n",
    "wb = openpyxl.Workbook()\n",
    "sheet = wb.active\n",
    "sheet['A1'] = 200\n",
    "sheet['A2'] = 300\n",
    "sheet['A3'] = '=SUM(A1:A2)' # Set the formula.\n",
    "\n",
    "wb.save('writeFormula.xlsx')"
   ]
  },
  {
   "cell_type": "code",
   "execution_count": 5,
   "id": "0db96447",
   "metadata": {},
   "outputs": [],
   "source": [
    "import openpyxl \n",
    "wb = openpyxl.Workbook()\n",
    "sheet = wb.active \n",
    "sheet['A1'] = 'Tall row' \n",
    "sheet['B2'] = 'Wide column' \n",
    "# Set the height and width:\n",
    "sheet.row_dimensions[1].height = 70\n",
    "sheet.column_dimensions['B'].width = 20\n",
    "wb.save('dimensions.xlsx')"
   ]
  },
  {
   "cell_type": "code",
   "execution_count": 6,
   "id": "0dcde138",
   "metadata": {},
   "outputs": [],
   "source": [
    "import openpyxl \n",
    "wb = openpyxl.Workbook()\n",
    "sheet = wb.active \n",
    "sheet.merge_cells('A1:D3') # Merge all these cells.\n",
    "sheet['A1'] = 'Twelve cells merged together.' \n",
    "sheet.merge_cells('C5:D5') # Merge these two cells.\n",
    "sheet['C5'] = 'Two merged cells' \n",
    "wb.save('merged.xlsx')"
   ]
  },
  {
   "cell_type": "code",
   "execution_count": 8,
   "id": "1d8b429f",
   "metadata": {},
   "outputs": [],
   "source": [
    "import openpyxl \n",
    "wb = openpyxl.load_workbook('merged.xlsx')\n",
    "sheet = wb.active\n",
    "sheet.unmerge_cells('A1:D3') # Split these cells up.\n",
    "sheet.unmerge_cells('C5:D5') \n",
    "wb.save('merge.xlsx')"
   ]
  },
  {
   "cell_type": "code",
   "execution_count": 10,
   "id": "260479ff",
   "metadata": {},
   "outputs": [],
   "source": [
    "import openpyxl \n",
    "wb = openpyxl.load_workbook('produceSales.xlsx')\n",
    "sheet = wb.active\n",
    "sheet.freeze_panes = 'A2' # Freeze the rows above A2.\n",
    "wb.save('freezeExample.xlsx')"
   ]
  },
  {
   "cell_type": "code",
   "execution_count": 11,
   "id": "1fc3bf7b",
   "metadata": {},
   "outputs": [
    {
     "ename": "ModuleNotFoundError",
     "evalue": "No module named 'openyxl'",
     "output_type": "error",
     "traceback": [
      "\u001b[1;31m---------------------------------------------------------------------------\u001b[0m",
      "\u001b[1;31mModuleNotFoundError\u001b[0m                       Traceback (most recent call last)",
      "\u001b[1;32mc:\\Users\\YangShuhao\\Coding\\python_work\\pythonLearning\\boringStuff\\chapter13\\chapter13.ipynb Cell 37\u001b[0m in \u001b[0;36m<cell line: 1>\u001b[1;34m()\u001b[0m\n\u001b[1;32m----> <a href='vscode-notebook-cell:/c%3A/Users/YangShuhao/Coding/python_work/pythonLearning/boringStuff/chapter13/chapter13.ipynb#ch0000036?line=0'>1</a>\u001b[0m \u001b[39mimport\u001b[39;00m \u001b[39mopenyxl\u001b[39;00m \n\u001b[0;32m      <a href='vscode-notebook-cell:/c%3A/Users/YangShuhao/Coding/python_work/pythonLearning/boringStuff/chapter13/chapter13.ipynb#ch0000036?line=1'>2</a>\u001b[0m wb \u001b[39m=\u001b[39m openpyxl\u001b[39m.\u001b[39mWorkbook()\n\u001b[0;32m      <a href='vscode-notebook-cell:/c%3A/Users/YangShuhao/Coding/python_work/pythonLearning/boringStuff/chapter13/chapter13.ipynb#ch0000036?line=2'>3</a>\u001b[0m sheet \u001b[39m=\u001b[39m wb\u001b[39m.\u001b[39mactive\n",
      "\u001b[1;31mModuleNotFoundError\u001b[0m: No module named 'openyxl'"
     ]
    }
   ],
   "source": [
    "import openpyxl \n",
    "wb = openpyxl.Workbook()\n",
    "sheet = wb.active\n",
    "for i in range(1, 11): # Create some date in column A\n",
    "    sheet['A' + str(i)] = i \n",
    "\n",
    "refObj = openpyxl.chart.Reference(sheet, min_col=1, min_row=1, max_col=1, max_row=10) \n",
    "seriesObj = openpyxl.chart.Series(refObj, title='First series')\n",
    "\n",
    "chartObj = openpyxl.chart.BarChart()\n",
    "chartObj.title = 'My Chart' \n",
    "chartObj.append(seriesObj)\n",
    "\n",
    "sheet.add_chart(chartObj, 'C5')\n",
    "wb.save('smapleChart.xlsx')"
   ]
  },
  {
   "cell_type": "code",
   "execution_count": null,
   "id": "84da19ee",
   "metadata": {},
   "outputs": [],
   "source": []
  }
 ],
 "metadata": {
  "kernelspec": {
   "display_name": "Python 3.10.0 64-bit",
   "language": "python",
   "name": "python3"
  },
  "language_info": {
   "codemirror_mode": {
    "name": "ipython",
    "version": 3
   },
   "file_extension": ".py",
   "mimetype": "text/x-python",
   "name": "python",
   "nbconvert_exporter": "python",
   "pygments_lexer": "ipython3",
   "version": "3.10.0"
  },
  "vscode": {
   "interpreter": {
    "hash": "3fca44e8a8d966755b74aae34a70af2c9ee2ebdbfb3aa82eef447cc2a8552b1d"
   }
  }
 },
 "nbformat": 4,
 "nbformat_minor": 5
}
